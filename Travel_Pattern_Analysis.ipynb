{
 "cells": [
  {
   "cell_type": "markdown",
   "metadata": {},
   "source": [
    "\n",
    "¡Hola, Karla!\n",
    "\n",
    "Mi nombre es Tonatiuh Cruz. Me complace revisar tu proyecto hoy.\n",
    "\n",
    "Al identificar cualquier error inicialmente, simplemente los destacaré. Te animo a localizar y abordar los problemas de forma independiente como parte de tu preparación para un rol como data-analyst. En un entorno profesional, tu líder de equipo seguiría un enfoque similar. Si encuentras la tarea desafiante, proporcionaré una pista más específica en la próxima iteración.\n",
    "\n",
    "Encontrarás mis comentarios a continuación - **por favor no los muevas, modifiques o elimines**.\n",
    "\n",
    "Puedes encontrar mis comentarios en cajas verdes, amarillas o rojas como esta:\n",
    "\n",
    "<div class=\"alert alert-block alert-success\">\n",
    "<b>Comentario del revisor</b> <a class=\"tocSkip\"></a>\n",
    "\n",
    "Éxito. Todo está hecho correctamente.\n",
    "</div>\n",
    "\n",
    "<div class=\"alert alert-block alert-warning\">\n",
    "<b>Comentario del revisor</b> <a class=\"tocSkip\"></a>\n",
    "\n",
    "Observaciones. Algunas recomendaciones.\n",
    "</div>\n",
    "\n",
    "<div class=\"alert alert-block alert-danger\">\n",
    "<b>Comentario del revisor</b> <a class=\"tocSkip\"></a>\n",
    "\n",
    "Necesita corrección. El bloque requiere algunas correcciones. El trabajo no puede ser aceptado con comentarios en rojo.\n",
    "</div>\n",
    "\n",
    "Puedes responderme utilizando esto:\n",
    "\n",
    "<div class=\"alert alert-block alert-info\">\n",
    "<b>Respuesta del estudiante.</b> <a class=\"tocSkip\"></a>"
   ]
  },
  {
   "cell_type": "markdown",
   "metadata": {},
   "source": [
    "<div class=\"alert alert-block alert-success\">\n",
    "\n",
    "<b>Revisión 1</b> <a class=\"tocSkip\"></a>\n",
    "\n",
    "\n",
    "Karla, excelente trabajo con el desarrollo del proyecto, cada vez estas más cercas de convertirte en un cientifico de datos. Haces la carga de los datos, su tratamiento inicial, las gráficas y el desarrollo de la prueba de hipótesis. Solamente te dejo algunos comentario para terminar de complementar el análisis.</div>"
   ]
  },
  {
   "cell_type": "markdown",
   "metadata": {},
   "source": [
    "# Análisis exploratorio de datos"
   ]
  },
  {
   "cell_type": "code",
   "execution_count": 1,
   "metadata": {},
   "outputs": [],
   "source": [
    "# Importar librerias\n",
    "import pandas as pd\n",
    "import numpy as np\n",
    "from scipy import stats as st\n",
    "from matplotlib import pyplot as plt"
   ]
  },
  {
   "cell_type": "code",
   "execution_count": 2,
   "metadata": {},
   "outputs": [],
   "source": [
    "# Importar archivos\n",
    "\n",
    "taxis = pd.read_csv('/datasets/project_sql_result_01.csv')\n",
    "\n",
    "neighborhoods = pd.read_csv('/datasets/project_sql_result_04.csv')"
   ]
  },
  {
   "cell_type": "markdown",
   "metadata": {},
   "source": [
    "<div class=\"alert alert-block alert-success\">\n",
    "<b>Comentario del revisor:</b> <a class=\"tocSkip\"></a>\n",
    "    \n",
    "Has realizado un excelente trabajo al importar los datos y las bibliotecas necesarias.\n",
    "\n",
    "</div>"
   ]
  },
  {
   "cell_type": "code",
   "execution_count": 3,
   "metadata": {},
   "outputs": [
    {
     "name": "stdout",
     "output_type": "stream",
     "text": [
      "<class 'pandas.core.frame.DataFrame'>\n",
      "RangeIndex: 64 entries, 0 to 63\n",
      "Data columns (total 2 columns):\n",
      " #   Column        Non-Null Count  Dtype \n",
      "---  ------        --------------  ----- \n",
      " 0   company_name  64 non-null     object\n",
      " 1   trips_amount  64 non-null     int64 \n",
      "dtypes: int64(1), object(1)\n",
      "memory usage: 1.1+ KB\n"
     ]
    }
   ],
   "source": [
    "# Información del df taxis\n",
    "taxis.info()"
   ]
  },
  {
   "cell_type": "code",
   "execution_count": 4,
   "metadata": {},
   "outputs": [
    {
     "data": {
      "text/html": [
       "<div>\n",
       "<style scoped>\n",
       "    .dataframe tbody tr th:only-of-type {\n",
       "        vertical-align: middle;\n",
       "    }\n",
       "\n",
       "    .dataframe tbody tr th {\n",
       "        vertical-align: top;\n",
       "    }\n",
       "\n",
       "    .dataframe thead th {\n",
       "        text-align: right;\n",
       "    }\n",
       "</style>\n",
       "<table border=\"1\" class=\"dataframe\">\n",
       "  <thead>\n",
       "    <tr style=\"text-align: right;\">\n",
       "      <th></th>\n",
       "      <th>company_name</th>\n",
       "      <th>trips_amount</th>\n",
       "    </tr>\n",
       "  </thead>\n",
       "  <tbody>\n",
       "    <tr>\n",
       "      <th>0</th>\n",
       "      <td>Flash Cab</td>\n",
       "      <td>19558</td>\n",
       "    </tr>\n",
       "    <tr>\n",
       "      <th>1</th>\n",
       "      <td>Taxi Affiliation Services</td>\n",
       "      <td>11422</td>\n",
       "    </tr>\n",
       "    <tr>\n",
       "      <th>2</th>\n",
       "      <td>Medallion Leasing</td>\n",
       "      <td>10367</td>\n",
       "    </tr>\n",
       "    <tr>\n",
       "      <th>3</th>\n",
       "      <td>Yellow Cab</td>\n",
       "      <td>9888</td>\n",
       "    </tr>\n",
       "    <tr>\n",
       "      <th>4</th>\n",
       "      <td>Taxi Affiliation Service Yellow</td>\n",
       "      <td>9299</td>\n",
       "    </tr>\n",
       "    <tr>\n",
       "      <th>...</th>\n",
       "      <td>...</td>\n",
       "      <td>...</td>\n",
       "    </tr>\n",
       "    <tr>\n",
       "      <th>59</th>\n",
       "      <td>4053 - 40193 Adwar H. Nikola</td>\n",
       "      <td>7</td>\n",
       "    </tr>\n",
       "    <tr>\n",
       "      <th>60</th>\n",
       "      <td>2733 - 74600 Benny Jona</td>\n",
       "      <td>7</td>\n",
       "    </tr>\n",
       "    <tr>\n",
       "      <th>61</th>\n",
       "      <td>5874 - 73628 Sergey Cab Corp.</td>\n",
       "      <td>5</td>\n",
       "    </tr>\n",
       "    <tr>\n",
       "      <th>62</th>\n",
       "      <td>2241 - 44667 - Felman Corp</td>\n",
       "      <td>3</td>\n",
       "    </tr>\n",
       "    <tr>\n",
       "      <th>63</th>\n",
       "      <td>3556 - 36214 RC Andrews Cab</td>\n",
       "      <td>2</td>\n",
       "    </tr>\n",
       "  </tbody>\n",
       "</table>\n",
       "<p>64 rows × 2 columns</p>\n",
       "</div>"
      ],
      "text/plain": [
       "                       company_name  trips_amount\n",
       "0                         Flash Cab         19558\n",
       "1         Taxi Affiliation Services         11422\n",
       "2                 Medallion Leasing         10367\n",
       "3                        Yellow Cab          9888\n",
       "4   Taxi Affiliation Service Yellow          9299\n",
       "..                              ...           ...\n",
       "59     4053 - 40193 Adwar H. Nikola             7\n",
       "60          2733 - 74600 Benny Jona             7\n",
       "61    5874 - 73628 Sergey Cab Corp.             5\n",
       "62       2241 - 44667 - Felman Corp             3\n",
       "63      3556 - 36214 RC Andrews Cab             2\n",
       "\n",
       "[64 rows x 2 columns]"
      ]
     },
     "execution_count": 4,
     "metadata": {},
     "output_type": "execute_result"
    }
   ],
   "source": [
    "# Vista del df taxis\n",
    "taxis"
   ]
  },
  {
   "cell_type": "code",
   "execution_count": 5,
   "metadata": {
    "scrolled": true
   },
   "outputs": [
    {
     "data": {
      "text/html": [
       "<div>\n",
       "<style scoped>\n",
       "    .dataframe tbody tr th:only-of-type {\n",
       "        vertical-align: middle;\n",
       "    }\n",
       "\n",
       "    .dataframe tbody tr th {\n",
       "        vertical-align: top;\n",
       "    }\n",
       "\n",
       "    .dataframe thead th {\n",
       "        text-align: right;\n",
       "    }\n",
       "</style>\n",
       "<table border=\"1\" class=\"dataframe\">\n",
       "  <thead>\n",
       "    <tr style=\"text-align: right;\">\n",
       "      <th></th>\n",
       "      <th>company_name</th>\n",
       "      <th>trips_amount</th>\n",
       "    </tr>\n",
       "  </thead>\n",
       "  <tbody>\n",
       "    <tr>\n",
       "      <th>0</th>\n",
       "      <td>flash cab</td>\n",
       "      <td>19558</td>\n",
       "    </tr>\n",
       "    <tr>\n",
       "      <th>1</th>\n",
       "      <td>taxi affiliation services</td>\n",
       "      <td>11422</td>\n",
       "    </tr>\n",
       "    <tr>\n",
       "      <th>2</th>\n",
       "      <td>medallion leasing</td>\n",
       "      <td>10367</td>\n",
       "    </tr>\n",
       "    <tr>\n",
       "      <th>3</th>\n",
       "      <td>yellow cab</td>\n",
       "      <td>9888</td>\n",
       "    </tr>\n",
       "    <tr>\n",
       "      <th>4</th>\n",
       "      <td>taxi affiliation service yellow</td>\n",
       "      <td>9299</td>\n",
       "    </tr>\n",
       "  </tbody>\n",
       "</table>\n",
       "</div>"
      ],
      "text/plain": [
       "                      company_name  trips_amount\n",
       "0                        flash cab         19558\n",
       "1        taxi affiliation services         11422\n",
       "2                medallion leasing         10367\n",
       "3                       yellow cab          9888\n",
       "4  taxi affiliation service yellow          9299"
      ]
     },
     "execution_count": 5,
     "metadata": {},
     "output_type": "execute_result"
    }
   ],
   "source": [
    "# Cambiar a minúsculas la columna company_name para evitar duplicados\n",
    "taxis['company_name'] = taxis['company_name'].str.lower()\n",
    "\n",
    "# Comprobamos\n",
    "taxis.head()"
   ]
  },
  {
   "cell_type": "code",
   "execution_count": 6,
   "metadata": {},
   "outputs": [
    {
     "data": {
      "text/plain": [
       "0"
      ]
     },
     "execution_count": 6,
     "metadata": {},
     "output_type": "execute_result"
    }
   ],
   "source": [
    "# Revisar si hay duplicados\n",
    "taxis.duplicated().sum()"
   ]
  },
  {
   "cell_type": "code",
   "execution_count": 7,
   "metadata": {},
   "outputs": [
    {
     "name": "stdout",
     "output_type": "stream",
     "text": [
      "<class 'pandas.core.frame.DataFrame'>\n",
      "RangeIndex: 94 entries, 0 to 93\n",
      "Data columns (total 2 columns):\n",
      " #   Column                 Non-Null Count  Dtype  \n",
      "---  ------                 --------------  -----  \n",
      " 0   dropoff_location_name  94 non-null     object \n",
      " 1   average_trips          94 non-null     float64\n",
      "dtypes: float64(1), object(1)\n",
      "memory usage: 1.6+ KB\n"
     ]
    }
   ],
   "source": [
    "# Infromación del df neighborhoods\n",
    "neighborhoods.info()"
   ]
  },
  {
   "cell_type": "code",
   "execution_count": 8,
   "metadata": {},
   "outputs": [
    {
     "data": {
      "text/html": [
       "<div>\n",
       "<style scoped>\n",
       "    .dataframe tbody tr th:only-of-type {\n",
       "        vertical-align: middle;\n",
       "    }\n",
       "\n",
       "    .dataframe tbody tr th {\n",
       "        vertical-align: top;\n",
       "    }\n",
       "\n",
       "    .dataframe thead th {\n",
       "        text-align: right;\n",
       "    }\n",
       "</style>\n",
       "<table border=\"1\" class=\"dataframe\">\n",
       "  <thead>\n",
       "    <tr style=\"text-align: right;\">\n",
       "      <th></th>\n",
       "      <th>dropoff_location_name</th>\n",
       "      <th>average_trips</th>\n",
       "    </tr>\n",
       "  </thead>\n",
       "  <tbody>\n",
       "    <tr>\n",
       "      <th>0</th>\n",
       "      <td>Loop</td>\n",
       "      <td>10727.466667</td>\n",
       "    </tr>\n",
       "    <tr>\n",
       "      <th>1</th>\n",
       "      <td>River North</td>\n",
       "      <td>9523.666667</td>\n",
       "    </tr>\n",
       "    <tr>\n",
       "      <th>2</th>\n",
       "      <td>Streeterville</td>\n",
       "      <td>6664.666667</td>\n",
       "    </tr>\n",
       "    <tr>\n",
       "      <th>3</th>\n",
       "      <td>West Loop</td>\n",
       "      <td>5163.666667</td>\n",
       "    </tr>\n",
       "    <tr>\n",
       "      <th>4</th>\n",
       "      <td>O'Hare</td>\n",
       "      <td>2546.900000</td>\n",
       "    </tr>\n",
       "    <tr>\n",
       "      <th>...</th>\n",
       "      <td>...</td>\n",
       "      <td>...</td>\n",
       "    </tr>\n",
       "    <tr>\n",
       "      <th>89</th>\n",
       "      <td>Mount Greenwood</td>\n",
       "      <td>3.137931</td>\n",
       "    </tr>\n",
       "    <tr>\n",
       "      <th>90</th>\n",
       "      <td>Hegewisch</td>\n",
       "      <td>3.117647</td>\n",
       "    </tr>\n",
       "    <tr>\n",
       "      <th>91</th>\n",
       "      <td>Burnside</td>\n",
       "      <td>2.333333</td>\n",
       "    </tr>\n",
       "    <tr>\n",
       "      <th>92</th>\n",
       "      <td>East Side</td>\n",
       "      <td>1.961538</td>\n",
       "    </tr>\n",
       "    <tr>\n",
       "      <th>93</th>\n",
       "      <td>Riverdale</td>\n",
       "      <td>1.800000</td>\n",
       "    </tr>\n",
       "  </tbody>\n",
       "</table>\n",
       "<p>94 rows × 2 columns</p>\n",
       "</div>"
      ],
      "text/plain": [
       "   dropoff_location_name  average_trips\n",
       "0                   Loop   10727.466667\n",
       "1            River North    9523.666667\n",
       "2          Streeterville    6664.666667\n",
       "3              West Loop    5163.666667\n",
       "4                 O'Hare    2546.900000\n",
       "..                   ...            ...\n",
       "89       Mount Greenwood       3.137931\n",
       "90             Hegewisch       3.117647\n",
       "91              Burnside       2.333333\n",
       "92             East Side       1.961538\n",
       "93             Riverdale       1.800000\n",
       "\n",
       "[94 rows x 2 columns]"
      ]
     },
     "execution_count": 8,
     "metadata": {},
     "output_type": "execute_result"
    }
   ],
   "source": [
    "# Vista del df neighborhoods\n",
    "neighborhoods"
   ]
  },
  {
   "cell_type": "code",
   "execution_count": 9,
   "metadata": {},
   "outputs": [
    {
     "data": {
      "text/html": [
       "<div>\n",
       "<style scoped>\n",
       "    .dataframe tbody tr th:only-of-type {\n",
       "        vertical-align: middle;\n",
       "    }\n",
       "\n",
       "    .dataframe tbody tr th {\n",
       "        vertical-align: top;\n",
       "    }\n",
       "\n",
       "    .dataframe thead th {\n",
       "        text-align: right;\n",
       "    }\n",
       "</style>\n",
       "<table border=\"1\" class=\"dataframe\">\n",
       "  <thead>\n",
       "    <tr style=\"text-align: right;\">\n",
       "      <th></th>\n",
       "      <th>dropoff_location_name</th>\n",
       "      <th>average_trips</th>\n",
       "    </tr>\n",
       "  </thead>\n",
       "  <tbody>\n",
       "    <tr>\n",
       "      <th>0</th>\n",
       "      <td>loop</td>\n",
       "      <td>10727.466667</td>\n",
       "    </tr>\n",
       "    <tr>\n",
       "      <th>1</th>\n",
       "      <td>river north</td>\n",
       "      <td>9523.666667</td>\n",
       "    </tr>\n",
       "    <tr>\n",
       "      <th>2</th>\n",
       "      <td>streeterville</td>\n",
       "      <td>6664.666667</td>\n",
       "    </tr>\n",
       "    <tr>\n",
       "      <th>3</th>\n",
       "      <td>west loop</td>\n",
       "      <td>5163.666667</td>\n",
       "    </tr>\n",
       "    <tr>\n",
       "      <th>4</th>\n",
       "      <td>o'hare</td>\n",
       "      <td>2546.900000</td>\n",
       "    </tr>\n",
       "  </tbody>\n",
       "</table>\n",
       "</div>"
      ],
      "text/plain": [
       "  dropoff_location_name  average_trips\n",
       "0                  loop   10727.466667\n",
       "1           river north    9523.666667\n",
       "2         streeterville    6664.666667\n",
       "3             west loop    5163.666667\n",
       "4                o'hare    2546.900000"
      ]
     },
     "execution_count": 9,
     "metadata": {},
     "output_type": "execute_result"
    }
   ],
   "source": [
    "# Cambiar a minúsculas la columna dropoff_location_name para evitar duplicados\n",
    "neighborhoods['dropoff_location_name'] = neighborhoods['dropoff_location_name'].str.lower()\n",
    "\n",
    "# comprobamos\n",
    "neighborhoods.head()"
   ]
  },
  {
   "cell_type": "code",
   "execution_count": 10,
   "metadata": {},
   "outputs": [
    {
     "data": {
      "text/plain": [
       "0"
      ]
     },
     "execution_count": 10,
     "metadata": {},
     "output_type": "execute_result"
    }
   ],
   "source": [
    "# Revisar si hay duplicados\n",
    "neighborhoods.duplicated().sum()"
   ]
  },
  {
   "cell_type": "markdown",
   "metadata": {},
   "source": [
    "<div class=\"alert alert-block alert-success\">\n",
    "<b>Comentario del revisor:</b> <a class=\"tocSkip\"></a>\n",
    "    \n",
    "Excelente trabajo con el análisis de duplicados, como aprendiste en cursos anteriores esto es fundamental para asegurar que nuestros resultados no estarán sesgados"
   ]
  },
  {
   "cell_type": "code",
   "execution_count": 11,
   "metadata": {},
   "outputs": [
    {
     "data": {
      "text/html": [
       "<div>\n",
       "<style scoped>\n",
       "    .dataframe tbody tr th:only-of-type {\n",
       "        vertical-align: middle;\n",
       "    }\n",
       "\n",
       "    .dataframe tbody tr th {\n",
       "        vertical-align: top;\n",
       "    }\n",
       "\n",
       "    .dataframe thead th {\n",
       "        text-align: right;\n",
       "    }\n",
       "</style>\n",
       "<table border=\"1\" class=\"dataframe\">\n",
       "  <thead>\n",
       "    <tr style=\"text-align: right;\">\n",
       "      <th></th>\n",
       "      <th>dropoff_location_name</th>\n",
       "      <th>average_trips</th>\n",
       "    </tr>\n",
       "  </thead>\n",
       "  <tbody>\n",
       "    <tr>\n",
       "      <th>0</th>\n",
       "      <td>loop</td>\n",
       "      <td>10727.466667</td>\n",
       "    </tr>\n",
       "    <tr>\n",
       "      <th>1</th>\n",
       "      <td>river north</td>\n",
       "      <td>9523.666667</td>\n",
       "    </tr>\n",
       "    <tr>\n",
       "      <th>2</th>\n",
       "      <td>streeterville</td>\n",
       "      <td>6664.666667</td>\n",
       "    </tr>\n",
       "    <tr>\n",
       "      <th>3</th>\n",
       "      <td>west loop</td>\n",
       "      <td>5163.666667</td>\n",
       "    </tr>\n",
       "    <tr>\n",
       "      <th>4</th>\n",
       "      <td>o'hare</td>\n",
       "      <td>2546.900000</td>\n",
       "    </tr>\n",
       "    <tr>\n",
       "      <th>5</th>\n",
       "      <td>lake view</td>\n",
       "      <td>2420.966667</td>\n",
       "    </tr>\n",
       "    <tr>\n",
       "      <th>6</th>\n",
       "      <td>grant park</td>\n",
       "      <td>2068.533333</td>\n",
       "    </tr>\n",
       "    <tr>\n",
       "      <th>7</th>\n",
       "      <td>museum campus</td>\n",
       "      <td>1510.000000</td>\n",
       "    </tr>\n",
       "    <tr>\n",
       "      <th>8</th>\n",
       "      <td>gold coast</td>\n",
       "      <td>1364.233333</td>\n",
       "    </tr>\n",
       "    <tr>\n",
       "      <th>9</th>\n",
       "      <td>sheffield &amp; depaul</td>\n",
       "      <td>1259.766667</td>\n",
       "    </tr>\n",
       "  </tbody>\n",
       "</table>\n",
       "</div>"
      ],
      "text/plain": [
       "  dropoff_location_name  average_trips\n",
       "0                  loop   10727.466667\n",
       "1           river north    9523.666667\n",
       "2         streeterville    6664.666667\n",
       "3             west loop    5163.666667\n",
       "4                o'hare    2546.900000\n",
       "5             lake view    2420.966667\n",
       "6            grant park    2068.533333\n",
       "7         museum campus    1510.000000\n",
       "8            gold coast    1364.233333\n",
       "9    sheffield & depaul    1259.766667"
      ]
     },
     "execution_count": 11,
     "metadata": {},
     "output_type": "execute_result"
    }
   ],
   "source": [
    "# Identificar los 10 principales barrios en términos de finalización del recorrido\n",
    "neighborhoods.sort_values('average_trips',ascending=False)\n",
    "\n",
    "neighborhoods.head(10)"
   ]
  },
  {
   "cell_type": "code",
   "execution_count": 12,
   "metadata": {},
   "outputs": [
    {
     "data": {
      "image/png": "[encoded data removed]",
      "text/plain": [
       "<Figure size 1000x500 with 1 Axes>"
      ]
     },
     "metadata": {},
     "output_type": "display_data"
    }
   ],
   "source": [
    "# Hacer gráfico: empresas de taxis y número de viajes\n",
    "\n",
    "amount_trips = taxis[taxis['trips_amount'] > 5500]\n",
    "amount_trips.plot(kind='bar',x='company_name',title='Número de viajes por empresa',figsize=(10,5),color='pink',legend=False)\n",
    "\n",
    "plt.xlabel('company_name')\n",
    "plt.ylabel('trips_amount')\n",
    "plt.show()"
   ]
  },
  {
   "cell_type": "markdown",
   "metadata": {},
   "source": [
    "<div class=\"alert alert-block alert-success\">\n",
    "\n",
    "<b>Comentario del revisor</b> <a class=\"tocSkip\"></a>\n",
    "\n",
    "Gran trabajo con la gráfica solamente mostrando el top 10 viajes por empresas de taxi"
   ]
  },
  {
   "cell_type": "markdown",
   "metadata": {},
   "source": [
    "Las 3 empresas que superan los 10 mil viajes son:\n",
    "\n",
    "- flash cab\n",
    "- taxi affiliation services\t\n",
    "- medallion leasing\n",
    "\n",
    "Esto se puede deber a diferentes factores como a la comodidad del vehículo, atenciones, precio,etc"
   ]
  },
  {
   "cell_type": "code",
   "execution_count": 13,
   "metadata": {},
   "outputs": [
    {
     "data": {
      "image/png": "[encoded data removed]",
      "text/plain": [
       "<Figure size 1000x500 with 1 Axes>"
      ]
     },
     "metadata": {},
     "output_type": "display_data"
    }
   ],
   "source": [
    "# Hacer gráfico: los 10 barrios principales por número de finalizaciones\n",
    "\n",
    "main_neighborhoods = neighborhoods[neighborhoods['average_trips'] > 1259]\n",
    "main_neighborhoods.plot(kind='bar',x='dropoff_location_name',title='Barrios principales donde finalizaron los viajes',figsize=(10,5),color='purple',legend=False)\n",
    "\n",
    "plt.xlabel('dropoff_location_name')\n",
    "plt.ylabel('average_trips')\n",
    "plt.show()"
   ]
  },
  {
   "cell_type": "markdown",
   "metadata": {},
   "source": [
    "<div class=\"alert alert-block alert-success\">\n",
    "\n",
    "<b>Comentario del revisor</b> <a class=\"tocSkip\"></a>\n",
    "\n",
    "Excelente trabajo con el desarrollo de este análisis y lo complementaste con una gráfica.\n",
    "    </div>"
   ]
  },
  {
   "cell_type": "markdown",
   "metadata": {},
   "source": [
    "Los 3 barrios que tienen más finalización de viajes son:\n",
    "\n",
    "- loop\n",
    "- river north\n",
    "- streeterville\n",
    "\n",
    "Esto se debe a que puede haber lugares turísticos por ahí, puede ser un barrio con mucha población,centros de entretenimiento, oficinas, etc."
   ]
  },
  {
   "cell_type": "markdown",
   "metadata": {},
   "source": [
    "# Prueba de hipótesis"
   ]
  },
  {
   "cell_type": "code",
   "execution_count": 14,
   "metadata": {},
   "outputs": [],
   "source": [
    "# Leer archivo de la última consulta\n",
    "loop = pd.read_csv('/datasets/project_sql_result_07.csv')"
   ]
  },
  {
   "cell_type": "code",
   "execution_count": 15,
   "metadata": {},
   "outputs": [
    {
     "name": "stdout",
     "output_type": "stream",
     "text": [
      "<class 'pandas.core.frame.DataFrame'>\n",
      "RangeIndex: 1068 entries, 0 to 1067\n",
      "Data columns (total 3 columns):\n",
      " #   Column              Non-Null Count  Dtype  \n",
      "---  ------              --------------  -----  \n",
      " 0   start_ts            1068 non-null   object \n",
      " 1   weather_conditions  1068 non-null   object \n",
      " 2   duration_seconds    1068 non-null   float64\n",
      "dtypes: float64(1), object(2)\n",
      "memory usage: 25.2+ KB\n"
     ]
    }
   ],
   "source": [
    "# Información del df\n",
    "loop.info()"
   ]
  },
  {
   "cell_type": "code",
   "execution_count": 17,
   "metadata": {},
   "outputs": [
    {
     "data": {
      "text/html": [
       "<div>\n",
       "<style scoped>\n",
       "    .dataframe tbody tr th:only-of-type {\n",
       "        vertical-align: middle;\n",
       "    }\n",
       "\n",
       "    .dataframe tbody tr th {\n",
       "        vertical-align: top;\n",
       "    }\n",
       "\n",
       "    .dataframe thead th {\n",
       "        text-align: right;\n",
       "    }\n",
       "</style>\n",
       "<table border=\"1\" class=\"dataframe\">\n",
       "  <thead>\n",
       "    <tr style=\"text-align: right;\">\n",
       "      <th></th>\n",
       "      <th>start_ts</th>\n",
       "      <th>weather_conditions</th>\n",
       "      <th>duration_seconds</th>\n",
       "    </tr>\n",
       "  </thead>\n",
       "  <tbody>\n",
       "    <tr>\n",
       "      <th>0</th>\n",
       "      <td>2017-11-25 16:00:00</td>\n",
       "      <td>Good</td>\n",
       "      <td>2410.0</td>\n",
       "    </tr>\n",
       "    <tr>\n",
       "      <th>1</th>\n",
       "      <td>2017-11-25 14:00:00</td>\n",
       "      <td>Good</td>\n",
       "      <td>1920.0</td>\n",
       "    </tr>\n",
       "    <tr>\n",
       "      <th>2</th>\n",
       "      <td>2017-11-25 12:00:00</td>\n",
       "      <td>Good</td>\n",
       "      <td>1543.0</td>\n",
       "    </tr>\n",
       "    <tr>\n",
       "      <th>3</th>\n",
       "      <td>2017-11-04 10:00:00</td>\n",
       "      <td>Good</td>\n",
       "      <td>2512.0</td>\n",
       "    </tr>\n",
       "    <tr>\n",
       "      <th>4</th>\n",
       "      <td>2017-11-11 07:00:00</td>\n",
       "      <td>Good</td>\n",
       "      <td>1440.0</td>\n",
       "    </tr>\n",
       "    <tr>\n",
       "      <th>...</th>\n",
       "      <td>...</td>\n",
       "      <td>...</td>\n",
       "      <td>...</td>\n",
       "    </tr>\n",
       "    <tr>\n",
       "      <th>1063</th>\n",
       "      <td>2017-11-25 11:00:00</td>\n",
       "      <td>Good</td>\n",
       "      <td>0.0</td>\n",
       "    </tr>\n",
       "    <tr>\n",
       "      <th>1064</th>\n",
       "      <td>2017-11-11 10:00:00</td>\n",
       "      <td>Good</td>\n",
       "      <td>1318.0</td>\n",
       "    </tr>\n",
       "    <tr>\n",
       "      <th>1065</th>\n",
       "      <td>2017-11-11 13:00:00</td>\n",
       "      <td>Good</td>\n",
       "      <td>2100.0</td>\n",
       "    </tr>\n",
       "    <tr>\n",
       "      <th>1066</th>\n",
       "      <td>2017-11-11 08:00:00</td>\n",
       "      <td>Good</td>\n",
       "      <td>1380.0</td>\n",
       "    </tr>\n",
       "    <tr>\n",
       "      <th>1067</th>\n",
       "      <td>2017-11-04 16:00:00</td>\n",
       "      <td>Bad</td>\n",
       "      <td>2834.0</td>\n",
       "    </tr>\n",
       "  </tbody>\n",
       "</table>\n",
       "<p>1068 rows × 3 columns</p>\n",
       "</div>"
      ],
      "text/plain": [
       "                start_ts weather_conditions  duration_seconds\n",
       "0    2017-11-25 16:00:00               Good            2410.0\n",
       "1    2017-11-25 14:00:00               Good            1920.0\n",
       "2    2017-11-25 12:00:00               Good            1543.0\n",
       "3    2017-11-04 10:00:00               Good            2512.0\n",
       "4    2017-11-11 07:00:00               Good            1440.0\n",
       "...                  ...                ...               ...\n",
       "1063 2017-11-25 11:00:00               Good               0.0\n",
       "1064 2017-11-11 10:00:00               Good            1318.0\n",
       "1065 2017-11-11 13:00:00               Good            2100.0\n",
       "1066 2017-11-11 08:00:00               Good            1380.0\n",
       "1067 2017-11-04 16:00:00                Bad            2834.0\n",
       "\n",
       "[1068 rows x 3 columns]"
      ]
     },
     "execution_count": 17,
     "metadata": {},
     "output_type": "execute_result"
    }
   ],
   "source": [
    "# Ver df loop\n",
    "loop"
   ]
  },
  {
   "cell_type": "code",
   "execution_count": 16,
   "metadata": {},
   "outputs": [
    {
     "name": "stdout",
     "output_type": "stream",
     "text": [
      "<class 'pandas.core.frame.DataFrame'>\n",
      "RangeIndex: 1068 entries, 0 to 1067\n",
      "Data columns (total 3 columns):\n",
      " #   Column              Non-Null Count  Dtype         \n",
      "---  ------              --------------  -----         \n",
      " 0   start_ts            1068 non-null   datetime64[ns]\n",
      " 1   weather_conditions  1068 non-null   object        \n",
      " 2   duration_seconds    1068 non-null   float64       \n",
      "dtypes: datetime64[ns](1), float64(1), object(1)\n",
      "memory usage: 25.2+ KB\n"
     ]
    }
   ],
   "source": [
    "# Cambiar columna start_ts a tipo de dato fecha\n",
    "\n",
    "loop['start_ts'] = pd.to_datetime(loop['start_ts'])\n",
    "\n",
    "loop.info()"
   ]
  },
  {
   "cell_type": "code",
   "execution_count": 18,
   "metadata": {},
   "outputs": [
    {
     "data": {
      "text/html": [
       "<div>\n",
       "<style scoped>\n",
       "    .dataframe tbody tr th:only-of-type {\n",
       "        vertical-align: middle;\n",
       "    }\n",
       "\n",
       "    .dataframe tbody tr th {\n",
       "        vertical-align: top;\n",
       "    }\n",
       "\n",
       "    .dataframe thead th {\n",
       "        text-align: right;\n",
       "    }\n",
       "</style>\n",
       "<table border=\"1\" class=\"dataframe\">\n",
       "  <thead>\n",
       "    <tr style=\"text-align: right;\">\n",
       "      <th></th>\n",
       "      <th>start_ts</th>\n",
       "      <th>weather_conditions</th>\n",
       "      <th>duration_seconds</th>\n",
       "    </tr>\n",
       "  </thead>\n",
       "  <tbody>\n",
       "    <tr>\n",
       "      <th>0</th>\n",
       "      <td>2017-11-25 16:00:00</td>\n",
       "      <td>good</td>\n",
       "      <td>2410.0</td>\n",
       "    </tr>\n",
       "    <tr>\n",
       "      <th>1</th>\n",
       "      <td>2017-11-25 14:00:00</td>\n",
       "      <td>good</td>\n",
       "      <td>1920.0</td>\n",
       "    </tr>\n",
       "    <tr>\n",
       "      <th>2</th>\n",
       "      <td>2017-11-25 12:00:00</td>\n",
       "      <td>good</td>\n",
       "      <td>1543.0</td>\n",
       "    </tr>\n",
       "    <tr>\n",
       "      <th>3</th>\n",
       "      <td>2017-11-04 10:00:00</td>\n",
       "      <td>good</td>\n",
       "      <td>2512.0</td>\n",
       "    </tr>\n",
       "    <tr>\n",
       "      <th>4</th>\n",
       "      <td>2017-11-11 07:00:00</td>\n",
       "      <td>good</td>\n",
       "      <td>1440.0</td>\n",
       "    </tr>\n",
       "  </tbody>\n",
       "</table>\n",
       "</div>"
      ],
      "text/plain": [
       "             start_ts weather_conditions  duration_seconds\n",
       "0 2017-11-25 16:00:00               good            2410.0\n",
       "1 2017-11-25 14:00:00               good            1920.0\n",
       "2 2017-11-25 12:00:00               good            1543.0\n",
       "3 2017-11-04 10:00:00               good            2512.0\n",
       "4 2017-11-11 07:00:00               good            1440.0"
      ]
     },
     "execution_count": 18,
     "metadata": {},
     "output_type": "execute_result"
    }
   ],
   "source": [
    "# Cmbiar a minúsculas para evitar duplicados\n",
    "\n",
    "loop['weather_conditions'] = loop['weather_conditions'].str.lower()\n",
    "loop.head()"
   ]
  },
  {
   "cell_type": "code",
   "execution_count": 19,
   "metadata": {},
   "outputs": [
    {
     "data": {
      "text/plain": [
       "start_ts              0\n",
       "weather_conditions    0\n",
       "duration_seconds      0\n",
       "dtype: int64"
      ]
     },
     "execution_count": 19,
     "metadata": {},
     "output_type": "execute_result"
    }
   ],
   "source": [
    "# Revisar valores nulos\n",
    "loop.isnull().sum()"
   ]
  },
  {
   "cell_type": "code",
   "execution_count": 20,
   "metadata": {},
   "outputs": [
    {
     "data": {
      "text/plain": [
       "197"
      ]
     },
     "execution_count": 20,
     "metadata": {},
     "output_type": "execute_result"
    }
   ],
   "source": [
    "# Revisar valores duplicados\n",
    "loop.duplicated().sum()"
   ]
  },
  {
   "cell_type": "code",
   "execution_count": 21,
   "metadata": {},
   "outputs": [
    {
     "data": {
      "text/html": [
       "<div>\n",
       "<style scoped>\n",
       "    .dataframe tbody tr th:only-of-type {\n",
       "        vertical-align: middle;\n",
       "    }\n",
       "\n",
       "    .dataframe tbody tr th {\n",
       "        vertical-align: top;\n",
       "    }\n",
       "\n",
       "    .dataframe thead th {\n",
       "        text-align: right;\n",
       "    }\n",
       "</style>\n",
       "<table border=\"1\" class=\"dataframe\">\n",
       "  <thead>\n",
       "    <tr style=\"text-align: right;\">\n",
       "      <th></th>\n",
       "      <th>start_ts</th>\n",
       "      <th>weather_conditions</th>\n",
       "      <th>duration_seconds</th>\n",
       "    </tr>\n",
       "  </thead>\n",
       "  <tbody>\n",
       "    <tr>\n",
       "      <th>0</th>\n",
       "      <td>2017-11-25 16:00:00</td>\n",
       "      <td>good</td>\n",
       "      <td>2410.0</td>\n",
       "    </tr>\n",
       "    <tr>\n",
       "      <th>1</th>\n",
       "      <td>2017-11-25 14:00:00</td>\n",
       "      <td>good</td>\n",
       "      <td>1920.0</td>\n",
       "    </tr>\n",
       "    <tr>\n",
       "      <th>2</th>\n",
       "      <td>2017-11-25 12:00:00</td>\n",
       "      <td>good</td>\n",
       "      <td>1543.0</td>\n",
       "    </tr>\n",
       "    <tr>\n",
       "      <th>3</th>\n",
       "      <td>2017-11-04 10:00:00</td>\n",
       "      <td>good</td>\n",
       "      <td>2512.0</td>\n",
       "    </tr>\n",
       "    <tr>\n",
       "      <th>4</th>\n",
       "      <td>2017-11-11 07:00:00</td>\n",
       "      <td>good</td>\n",
       "      <td>1440.0</td>\n",
       "    </tr>\n",
       "    <tr>\n",
       "      <th>...</th>\n",
       "      <td>...</td>\n",
       "      <td>...</td>\n",
       "      <td>...</td>\n",
       "    </tr>\n",
       "    <tr>\n",
       "      <th>866</th>\n",
       "      <td>2017-11-04 14:00:00</td>\n",
       "      <td>good</td>\n",
       "      <td>2700.0</td>\n",
       "    </tr>\n",
       "    <tr>\n",
       "      <th>867</th>\n",
       "      <td>2017-11-18 16:00:00</td>\n",
       "      <td>bad</td>\n",
       "      <td>2186.0</td>\n",
       "    </tr>\n",
       "    <tr>\n",
       "      <th>868</th>\n",
       "      <td>2017-11-25 11:00:00</td>\n",
       "      <td>good</td>\n",
       "      <td>0.0</td>\n",
       "    </tr>\n",
       "    <tr>\n",
       "      <th>869</th>\n",
       "      <td>2017-11-11 10:00:00</td>\n",
       "      <td>good</td>\n",
       "      <td>1318.0</td>\n",
       "    </tr>\n",
       "    <tr>\n",
       "      <th>870</th>\n",
       "      <td>2017-11-04 16:00:00</td>\n",
       "      <td>bad</td>\n",
       "      <td>2834.0</td>\n",
       "    </tr>\n",
       "  </tbody>\n",
       "</table>\n",
       "<p>871 rows × 3 columns</p>\n",
       "</div>"
      ],
      "text/plain": [
       "               start_ts weather_conditions  duration_seconds\n",
       "0   2017-11-25 16:00:00               good            2410.0\n",
       "1   2017-11-25 14:00:00               good            1920.0\n",
       "2   2017-11-25 12:00:00               good            1543.0\n",
       "3   2017-11-04 10:00:00               good            2512.0\n",
       "4   2017-11-11 07:00:00               good            1440.0\n",
       "..                  ...                ...               ...\n",
       "866 2017-11-04 14:00:00               good            2700.0\n",
       "867 2017-11-18 16:00:00                bad            2186.0\n",
       "868 2017-11-25 11:00:00               good               0.0\n",
       "869 2017-11-11 10:00:00               good            1318.0\n",
       "870 2017-11-04 16:00:00                bad            2834.0\n",
       "\n",
       "[871 rows x 3 columns]"
      ]
     },
     "execution_count": 21,
     "metadata": {},
     "output_type": "execute_result"
    }
   ],
   "source": [
    "# Eliminar duplicados\n",
    "loop = loop.drop_duplicates().reset_index(drop=True)\n",
    "\n",
    "loop"
   ]
  },
  {
   "cell_type": "code",
   "execution_count": 22,
   "metadata": {},
   "outputs": [
    {
     "data": {
      "text/plain": [
       "0"
      ]
     },
     "execution_count": 22,
     "metadata": {},
     "output_type": "execute_result"
    }
   ],
   "source": [
    "# Confirmar valores duplicados\n",
    "loop.duplicated().sum()"
   ]
  },
  {
   "cell_type": "code",
   "execution_count": 23,
   "metadata": {},
   "outputs": [
    {
     "data": {
      "text/html": [
       "<div>\n",
       "<style scoped>\n",
       "    .dataframe tbody tr th:only-of-type {\n",
       "        vertical-align: middle;\n",
       "    }\n",
       "\n",
       "    .dataframe tbody tr th {\n",
       "        vertical-align: top;\n",
       "    }\n",
       "\n",
       "    .dataframe thead th {\n",
       "        text-align: right;\n",
       "    }\n",
       "</style>\n",
       "<table border=\"1\" class=\"dataframe\">\n",
       "  <thead>\n",
       "    <tr style=\"text-align: right;\">\n",
       "      <th></th>\n",
       "      <th>start_ts</th>\n",
       "      <th>weather_conditions</th>\n",
       "      <th>duration_seconds</th>\n",
       "    </tr>\n",
       "  </thead>\n",
       "  <tbody>\n",
       "    <tr>\n",
       "      <th>0</th>\n",
       "      <td>2017-11-25 16:00:00</td>\n",
       "      <td>good</td>\n",
       "      <td>2410.0</td>\n",
       "    </tr>\n",
       "    <tr>\n",
       "      <th>1</th>\n",
       "      <td>2017-11-25 14:00:00</td>\n",
       "      <td>good</td>\n",
       "      <td>1920.0</td>\n",
       "    </tr>\n",
       "    <tr>\n",
       "      <th>2</th>\n",
       "      <td>2017-11-25 12:00:00</td>\n",
       "      <td>good</td>\n",
       "      <td>1543.0</td>\n",
       "    </tr>\n",
       "    <tr>\n",
       "      <th>3</th>\n",
       "      <td>2017-11-04 10:00:00</td>\n",
       "      <td>good</td>\n",
       "      <td>2512.0</td>\n",
       "    </tr>\n",
       "    <tr>\n",
       "      <th>4</th>\n",
       "      <td>2017-11-11 07:00:00</td>\n",
       "      <td>good</td>\n",
       "      <td>1440.0</td>\n",
       "    </tr>\n",
       "    <tr>\n",
       "      <th>...</th>\n",
       "      <td>...</td>\n",
       "      <td>...</td>\n",
       "      <td>...</td>\n",
       "    </tr>\n",
       "    <tr>\n",
       "      <th>865</th>\n",
       "      <td>2017-11-11 10:00:00</td>\n",
       "      <td>good</td>\n",
       "      <td>1303.0</td>\n",
       "    </tr>\n",
       "    <tr>\n",
       "      <th>866</th>\n",
       "      <td>2017-11-04 14:00:00</td>\n",
       "      <td>good</td>\n",
       "      <td>2700.0</td>\n",
       "    </tr>\n",
       "    <tr>\n",
       "      <th>867</th>\n",
       "      <td>2017-11-18 16:00:00</td>\n",
       "      <td>bad</td>\n",
       "      <td>2186.0</td>\n",
       "    </tr>\n",
       "    <tr>\n",
       "      <th>869</th>\n",
       "      <td>2017-11-11 10:00:00</td>\n",
       "      <td>good</td>\n",
       "      <td>1318.0</td>\n",
       "    </tr>\n",
       "    <tr>\n",
       "      <th>870</th>\n",
       "      <td>2017-11-04 16:00:00</td>\n",
       "      <td>bad</td>\n",
       "      <td>2834.0</td>\n",
       "    </tr>\n",
       "  </tbody>\n",
       "</table>\n",
       "<p>865 rows × 3 columns</p>\n",
       "</div>"
      ],
      "text/plain": [
       "               start_ts weather_conditions  duration_seconds\n",
       "0   2017-11-25 16:00:00               good            2410.0\n",
       "1   2017-11-25 14:00:00               good            1920.0\n",
       "2   2017-11-25 12:00:00               good            1543.0\n",
       "3   2017-11-04 10:00:00               good            2512.0\n",
       "4   2017-11-11 07:00:00               good            1440.0\n",
       "..                  ...                ...               ...\n",
       "865 2017-11-11 10:00:00               good            1303.0\n",
       "866 2017-11-04 14:00:00               good            2700.0\n",
       "867 2017-11-18 16:00:00                bad            2186.0\n",
       "869 2017-11-11 10:00:00               good            1318.0\n",
       "870 2017-11-04 16:00:00                bad            2834.0\n",
       "\n",
       "[865 rows x 3 columns]"
      ]
     },
     "execution_count": 23,
     "metadata": {},
     "output_type": "execute_result"
    }
   ],
   "source": [
    "# Revisar si hay viajes que duran 0 segundos y filtarlos\n",
    "\n",
    "loop = loop[loop['duration_seconds'] >= 1]\n",
    "loop"
   ]
  },
  {
   "cell_type": "code",
   "execution_count": 24,
   "metadata": {},
   "outputs": [
    {
     "data": {
      "text/html": [
       "<div>\n",
       "<style scoped>\n",
       "    .dataframe tbody tr th:only-of-type {\n",
       "        vertical-align: middle;\n",
       "    }\n",
       "\n",
       "    .dataframe tbody tr th {\n",
       "        vertical-align: top;\n",
       "    }\n",
       "\n",
       "    .dataframe thead th {\n",
       "        text-align: right;\n",
       "    }\n",
       "</style>\n",
       "<table border=\"1\" class=\"dataframe\">\n",
       "  <thead>\n",
       "    <tr style=\"text-align: right;\">\n",
       "      <th></th>\n",
       "      <th>duration_seconds</th>\n",
       "    </tr>\n",
       "  </thead>\n",
       "  <tbody>\n",
       "    <tr>\n",
       "      <th>count</th>\n",
       "      <td>865.000000</td>\n",
       "    </tr>\n",
       "    <tr>\n",
       "      <th>mean</th>\n",
       "      <td>2110.849711</td>\n",
       "    </tr>\n",
       "    <tr>\n",
       "      <th>std</th>\n",
       "      <td>765.162920</td>\n",
       "    </tr>\n",
       "    <tr>\n",
       "      <th>min</th>\n",
       "      <td>60.000000</td>\n",
       "    </tr>\n",
       "    <tr>\n",
       "      <th>25%</th>\n",
       "      <td>1454.000000</td>\n",
       "    </tr>\n",
       "    <tr>\n",
       "      <th>50%</th>\n",
       "      <td>2037.000000</td>\n",
       "    </tr>\n",
       "    <tr>\n",
       "      <th>75%</th>\n",
       "      <td>2591.000000</td>\n",
       "    </tr>\n",
       "    <tr>\n",
       "      <th>max</th>\n",
       "      <td>7440.000000</td>\n",
       "    </tr>\n",
       "  </tbody>\n",
       "</table>\n",
       "</div>"
      ],
      "text/plain": [
       "       duration_seconds\n",
       "count        865.000000\n",
       "mean        2110.849711\n",
       "std          765.162920\n",
       "min           60.000000\n",
       "25%         1454.000000\n",
       "50%         2037.000000\n",
       "75%         2591.000000\n",
       "max         7440.000000"
      ]
     },
     "execution_count": 24,
     "metadata": {},
     "output_type": "execute_result"
    }
   ],
   "source": [
    "# Estadística de datos\n",
    "\n",
    "loop.describe()"
   ]
  },
  {
   "cell_type": "markdown",
   "metadata": {},
   "source": [
    "### Prueba la hipótesis:  \n",
    "\n",
    "Hipótesis nula:\n",
    "\"La duración promedio de los viajes desde el Loop hasta el Aeropuerto Internacional O'Hare no cambia los sábados lluviosos\".\n",
    "\n",
    "Hipótesis alternativa:\n",
    "\"La duración promedio de los viajes desde el Loop hasta el Aeropuerto Internacional O'Hare cambia los sábados lluviosos\"."
   ]
  },
  {
   "cell_type": "code",
   "execution_count": 25,
   "metadata": {},
   "outputs": [
    {
     "name": "stderr",
     "output_type": "stream",
     "text": [
      "/tmp/ipykernel_251/2207710949.py:3: SettingWithCopyWarning: \n",
      "A value is trying to be set on a copy of a slice from a DataFrame.\n",
      "Try using .loc[row_indexer,col_indexer] = value instead\n",
      "\n",
      "See the caveats in the documentation: https://pandas.pydata.org/pandas-docs/stable/user_guide/indexing.html#returning-a-view-versus-a-copy\n",
      "  loop['only_date'] = loop['start_ts'].dt.date\n"
     ]
    },
    {
     "data": {
      "text/html": [
       "<div>\n",
       "<style scoped>\n",
       "    .dataframe tbody tr th:only-of-type {\n",
       "        vertical-align: middle;\n",
       "    }\n",
       "\n",
       "    .dataframe tbody tr th {\n",
       "        vertical-align: top;\n",
       "    }\n",
       "\n",
       "    .dataframe thead th {\n",
       "        text-align: right;\n",
       "    }\n",
       "</style>\n",
       "<table border=\"1\" class=\"dataframe\">\n",
       "  <thead>\n",
       "    <tr style=\"text-align: right;\">\n",
       "      <th></th>\n",
       "      <th>start_ts</th>\n",
       "      <th>weather_conditions</th>\n",
       "      <th>duration_seconds</th>\n",
       "      <th>only_date</th>\n",
       "    </tr>\n",
       "  </thead>\n",
       "  <tbody>\n",
       "    <tr>\n",
       "      <th>0</th>\n",
       "      <td>2017-11-25 16:00:00</td>\n",
       "      <td>good</td>\n",
       "      <td>2410.0</td>\n",
       "      <td>2017-11-25</td>\n",
       "    </tr>\n",
       "    <tr>\n",
       "      <th>1</th>\n",
       "      <td>2017-11-25 14:00:00</td>\n",
       "      <td>good</td>\n",
       "      <td>1920.0</td>\n",
       "      <td>2017-11-25</td>\n",
       "    </tr>\n",
       "    <tr>\n",
       "      <th>2</th>\n",
       "      <td>2017-11-25 12:00:00</td>\n",
       "      <td>good</td>\n",
       "      <td>1543.0</td>\n",
       "      <td>2017-11-25</td>\n",
       "    </tr>\n",
       "    <tr>\n",
       "      <th>3</th>\n",
       "      <td>2017-11-04 10:00:00</td>\n",
       "      <td>good</td>\n",
       "      <td>2512.0</td>\n",
       "      <td>2017-11-04</td>\n",
       "    </tr>\n",
       "    <tr>\n",
       "      <th>4</th>\n",
       "      <td>2017-11-11 07:00:00</td>\n",
       "      <td>good</td>\n",
       "      <td>1440.0</td>\n",
       "      <td>2017-11-11</td>\n",
       "    </tr>\n",
       "    <tr>\n",
       "      <th>...</th>\n",
       "      <td>...</td>\n",
       "      <td>...</td>\n",
       "      <td>...</td>\n",
       "      <td>...</td>\n",
       "    </tr>\n",
       "    <tr>\n",
       "      <th>865</th>\n",
       "      <td>2017-11-11 10:00:00</td>\n",
       "      <td>good</td>\n",
       "      <td>1303.0</td>\n",
       "      <td>2017-11-11</td>\n",
       "    </tr>\n",
       "    <tr>\n",
       "      <th>866</th>\n",
       "      <td>2017-11-04 14:00:00</td>\n",
       "      <td>good</td>\n",
       "      <td>2700.0</td>\n",
       "      <td>2017-11-04</td>\n",
       "    </tr>\n",
       "    <tr>\n",
       "      <th>867</th>\n",
       "      <td>2017-11-18 16:00:00</td>\n",
       "      <td>bad</td>\n",
       "      <td>2186.0</td>\n",
       "      <td>2017-11-18</td>\n",
       "    </tr>\n",
       "    <tr>\n",
       "      <th>869</th>\n",
       "      <td>2017-11-11 10:00:00</td>\n",
       "      <td>good</td>\n",
       "      <td>1318.0</td>\n",
       "      <td>2017-11-11</td>\n",
       "    </tr>\n",
       "    <tr>\n",
       "      <th>870</th>\n",
       "      <td>2017-11-04 16:00:00</td>\n",
       "      <td>bad</td>\n",
       "      <td>2834.0</td>\n",
       "      <td>2017-11-04</td>\n",
       "    </tr>\n",
       "  </tbody>\n",
       "</table>\n",
       "<p>865 rows × 4 columns</p>\n",
       "</div>"
      ],
      "text/plain": [
       "               start_ts weather_conditions  duration_seconds   only_date\n",
       "0   2017-11-25 16:00:00               good            2410.0  2017-11-25\n",
       "1   2017-11-25 14:00:00               good            1920.0  2017-11-25\n",
       "2   2017-11-25 12:00:00               good            1543.0  2017-11-25\n",
       "3   2017-11-04 10:00:00               good            2512.0  2017-11-04\n",
       "4   2017-11-11 07:00:00               good            1440.0  2017-11-11\n",
       "..                  ...                ...               ...         ...\n",
       "865 2017-11-11 10:00:00               good            1303.0  2017-11-11\n",
       "866 2017-11-04 14:00:00               good            2700.0  2017-11-04\n",
       "867 2017-11-18 16:00:00                bad            2186.0  2017-11-18\n",
       "869 2017-11-11 10:00:00               good            1318.0  2017-11-11\n",
       "870 2017-11-04 16:00:00                bad            2834.0  2017-11-04\n",
       "\n",
       "[865 rows x 4 columns]"
      ]
     },
     "execution_count": 25,
     "metadata": {},
     "output_type": "execute_result"
    }
   ],
   "source": [
    "# Extraer la fecha de la columna start_ts\n",
    "\n",
    "loop['only_date'] = loop['start_ts'].dt.date\n",
    "loop"
   ]
  },
  {
   "cell_type": "code",
   "execution_count": 26,
   "metadata": {},
   "outputs": [
    {
     "data": {
      "text/html": [
       "<div>\n",
       "<style scoped>\n",
       "    .dataframe tbody tr th:only-of-type {\n",
       "        vertical-align: middle;\n",
       "    }\n",
       "\n",
       "    .dataframe tbody tr th {\n",
       "        vertical-align: top;\n",
       "    }\n",
       "\n",
       "    .dataframe thead th {\n",
       "        text-align: right;\n",
       "    }\n",
       "</style>\n",
       "<table border=\"1\" class=\"dataframe\">\n",
       "  <thead>\n",
       "    <tr style=\"text-align: right;\">\n",
       "      <th></th>\n",
       "      <th>start_ts</th>\n",
       "      <th>weather_conditions</th>\n",
       "      <th>duration_seconds</th>\n",
       "      <th>only_date</th>\n",
       "    </tr>\n",
       "  </thead>\n",
       "  <tbody>\n",
       "    <tr>\n",
       "      <th>6</th>\n",
       "      <td>2017-11-04 16:00:00</td>\n",
       "      <td>bad</td>\n",
       "      <td>2969.0</td>\n",
       "      <td>2017-11-04</td>\n",
       "    </tr>\n",
       "    <tr>\n",
       "      <th>30</th>\n",
       "      <td>2017-11-18 12:00:00</td>\n",
       "      <td>bad</td>\n",
       "      <td>1980.0</td>\n",
       "      <td>2017-11-18</td>\n",
       "    </tr>\n",
       "    <tr>\n",
       "      <th>34</th>\n",
       "      <td>2017-11-04 17:00:00</td>\n",
       "      <td>bad</td>\n",
       "      <td>2460.0</td>\n",
       "      <td>2017-11-04</td>\n",
       "    </tr>\n",
       "    <tr>\n",
       "      <th>51</th>\n",
       "      <td>2017-11-04 16:00:00</td>\n",
       "      <td>bad</td>\n",
       "      <td>2760.0</td>\n",
       "      <td>2017-11-04</td>\n",
       "    </tr>\n",
       "    <tr>\n",
       "      <th>52</th>\n",
       "      <td>2017-11-18 12:00:00</td>\n",
       "      <td>bad</td>\n",
       "      <td>2460.0</td>\n",
       "      <td>2017-11-18</td>\n",
       "    </tr>\n",
       "    <tr>\n",
       "      <th>...</th>\n",
       "      <td>...</td>\n",
       "      <td>...</td>\n",
       "      <td>...</td>\n",
       "      <td>...</td>\n",
       "    </tr>\n",
       "    <tr>\n",
       "      <th>846</th>\n",
       "      <td>2017-11-18 12:00:00</td>\n",
       "      <td>bad</td>\n",
       "      <td>2560.0</td>\n",
       "      <td>2017-11-18</td>\n",
       "    </tr>\n",
       "    <tr>\n",
       "      <th>847</th>\n",
       "      <td>2017-11-18 10:00:00</td>\n",
       "      <td>bad</td>\n",
       "      <td>1908.0</td>\n",
       "      <td>2017-11-18</td>\n",
       "    </tr>\n",
       "    <tr>\n",
       "      <th>861</th>\n",
       "      <td>2017-11-18 12:00:00</td>\n",
       "      <td>bad</td>\n",
       "      <td>2400.0</td>\n",
       "      <td>2017-11-18</td>\n",
       "    </tr>\n",
       "    <tr>\n",
       "      <th>867</th>\n",
       "      <td>2017-11-18 16:00:00</td>\n",
       "      <td>bad</td>\n",
       "      <td>2186.0</td>\n",
       "      <td>2017-11-18</td>\n",
       "    </tr>\n",
       "    <tr>\n",
       "      <th>870</th>\n",
       "      <td>2017-11-04 16:00:00</td>\n",
       "      <td>bad</td>\n",
       "      <td>2834.0</td>\n",
       "      <td>2017-11-04</td>\n",
       "    </tr>\n",
       "  </tbody>\n",
       "</table>\n",
       "<p>148 rows × 4 columns</p>\n",
       "</div>"
      ],
      "text/plain": [
       "               start_ts weather_conditions  duration_seconds   only_date\n",
       "6   2017-11-04 16:00:00                bad            2969.0  2017-11-04\n",
       "30  2017-11-18 12:00:00                bad            1980.0  2017-11-18\n",
       "34  2017-11-04 17:00:00                bad            2460.0  2017-11-04\n",
       "51  2017-11-04 16:00:00                bad            2760.0  2017-11-04\n",
       "52  2017-11-18 12:00:00                bad            2460.0  2017-11-18\n",
       "..                  ...                ...               ...         ...\n",
       "846 2017-11-18 12:00:00                bad            2560.0  2017-11-18\n",
       "847 2017-11-18 10:00:00                bad            1908.0  2017-11-18\n",
       "861 2017-11-18 12:00:00                bad            2400.0  2017-11-18\n",
       "867 2017-11-18 16:00:00                bad            2186.0  2017-11-18\n",
       "870 2017-11-04 16:00:00                bad            2834.0  2017-11-04\n",
       "\n",
       "[148 rows x 4 columns]"
      ]
     },
     "execution_count": 26,
     "metadata": {},
     "output_type": "execute_result"
    }
   ],
   "source": [
    "# Filtramos clima lluvioso = bad\n",
    "\n",
    "bad_conditions = loop[loop['weather_conditions'] == 'bad']\n",
    "bad_conditions"
   ]
  },
  {
   "cell_type": "code",
   "execution_count": 27,
   "metadata": {},
   "outputs": [
    {
     "data": {
      "text/plain": [
       "2110.849710982659"
      ]
     },
     "execution_count": 27,
     "metadata": {},
     "output_type": "execute_result"
    }
   ],
   "source": [
    "# Promedio de duración de los viajes (del df loop, sin importar el clima)\n",
    "\n",
    "avg = loop['duration_seconds'].mean()\n",
    "avg"
   ]
  },
  {
   "cell_type": "code",
   "execution_count": 28,
   "metadata": {},
   "outputs": [
    {
     "name": "stdout",
     "output_type": "stream",
     "text": [
      "Valor-p:  3.3934371090112425e-06\n"
     ]
    }
   ],
   "source": [
    "# extraer el valor p de los resultados de la prueba)\n",
    "\n",
    "alpha = 0.05\n",
    "results = st.ttest_1samp(bad_conditions['duration_seconds'],avg)\n",
    "\n",
    "print('Valor-p: ',results.pvalue)"
   ]
  },
  {
   "cell_type": "code",
   "execution_count": 29,
   "metadata": {},
   "outputs": [
    {
     "name": "stdout",
     "output_type": "stream",
     "text": [
      "Rechazamos la hipótesis nula\n"
     ]
    }
   ],
   "source": [
    "# compara el valor p con el umbral alpha\n",
    "\n",
    "if (results.pvalue < alpha):\n",
    "    print('Rechazamos la hipótesis nula')\n",
    "else:\n",
    "    print(\"No podemos rechazar la hipótesis nula\")"
   ]
  },
  {
   "cell_type": "markdown",
   "metadata": {},
   "source": [
    "<div class=\"alert alert-block alert-success\">\n",
    "\n",
    "<b>Comentario del revisor</b> <a class=\"tocSkip\"></a>\n",
    "\n",
    "Karla, gran trabajo con la prueba de hipótesis para mostrar si la duración promedio de los viajes desde el Loop hasta el Aeropuerto Internacional O'Hare no cambia los sábados lluviosos. Esta la puedes complementar con la prueba st.ttest_ind y adicionalmente la prueba de levene para mostrar si las vairanzas son iguales"
   ]
  },
  {
   "cell_type": "markdown",
   "metadata": {},
   "source": [
    "<div class=\"alert alert-block alert-warning\">\n",
    "<b>Comentario revisor</b> <a class=\"tocSkip\"></a>\n",
    "\n",
    "Como recomendación, te sugiero hacer un análisis de valores atípicos que puedan estar sesgando nuestros resultados\n",
    "    \n",
    "</div>"
   ]
  },
  {
   "cell_type": "markdown",
   "metadata": {},
   "source": [
    "# Conclusión\n",
    "\n",
    "Decidí usar una prueba de 2 colas puesto que no se sabe si la media va a aumentar o disminuir.\n",
    "\n",
    "Rechazamos la hipotesis nula de que \"La duración promedio de los viajes desde el Loop hasta el Aeropuerto Internacional O'Hare no cambia los sábados lluviosos\"\n",
    "\n",
    "\n",
    "Esto quiere decir que la duración promedio de los viajes si cambia los días que hay lluvia, esto se puede deber a que hay más tráfico, puede haber inundaciones, etc."
   ]
  },
  {
   "cell_type": "markdown",
   "metadata": {},
   "source": [
    "<div class=\"alert alert-block alert-warning\">\n",
    "<b>Comentario revisor</b> <a class=\"tocSkip\"></a>\n",
    "\n",
    "Karla, en general, considero que realizaste un excelente trabajo con el proyecto. Lograste limpiar y organizar las bases de datos eficazmente. Además, tu análisis exploratorio fue exhaustivo, presentando resultados relevantes que serán muy útiles para la toma de decisiones. También, desarrollaste las pruebas de hipótesis de manera acertada. Sin embargo, siempre hay espacio para mejorar y quisiera señalar algunos aspectos que podrías considerar:\n",
    "\n",
    "\n",
    "\n",
    "    \n",
    "*  Realizar análisis complementarios eliminando los valores que parecen ser atípicos.    \n",
    "\n",
    "    \n",
    "    \n",
    "</div>"
   ]
  }
 ],
 "metadata": {
  "ExecuteTimeLog": [
   {
    "duration": 360,
    "start_time": "2024-11-10T01:00:04.078Z"
   },
   {
    "duration": 14,
    "start_time": "2024-11-10T01:01:33.435Z"
   },
   {
    "duration": 12,
    "start_time": "2024-11-10T01:01:40.143Z"
   },
   {
    "duration": 9,
    "start_time": "2024-11-10T01:02:18.924Z"
   },
   {
    "duration": 8,
    "start_time": "2024-11-10T01:02:57.527Z"
   },
   {
    "duration": 10,
    "start_time": "2024-11-10T01:03:02.667Z"
   },
   {
    "duration": 8,
    "start_time": "2024-11-10T01:10:04.183Z"
   },
   {
    "duration": 7,
    "start_time": "2024-11-10T01:10:13.900Z"
   },
   {
    "duration": 2,
    "start_time": "2024-11-10T01:13:22.846Z"
   },
   {
    "duration": 6,
    "start_time": "2024-11-10T01:13:54.955Z"
   },
   {
    "duration": 8,
    "start_time": "2024-11-10T01:14:34.943Z"
   },
   {
    "duration": 312,
    "start_time": "2024-11-10T01:14:51.636Z"
   },
   {
    "duration": 9,
    "start_time": "2024-11-10T01:14:51.950Z"
   },
   {
    "duration": 21,
    "start_time": "2024-11-10T01:14:51.960Z"
   },
   {
    "duration": 13,
    "start_time": "2024-11-10T01:14:51.983Z"
   },
   {
    "duration": 7,
    "start_time": "2024-11-10T01:14:51.998Z"
   },
   {
    "duration": 9,
    "start_time": "2024-11-10T01:14:52.007Z"
   },
   {
    "duration": 8,
    "start_time": "2024-11-10T01:14:52.017Z"
   },
   {
    "duration": 5,
    "start_time": "2024-11-10T01:16:42.800Z"
   },
   {
    "duration": 218,
    "start_time": "2024-11-10T01:16:58.238Z"
   },
   {
    "duration": 12,
    "start_time": "2024-11-10T01:17:05.626Z"
   },
   {
    "duration": 15,
    "start_time": "2024-11-10T01:17:23.865Z"
   },
   {
    "duration": 4,
    "start_time": "2024-11-10T01:17:46.944Z"
   },
   {
    "duration": 23,
    "start_time": "2024-11-10T01:21:34.578Z"
   },
   {
    "duration": 6,
    "start_time": "2024-11-10T01:21:42.855Z"
   },
   {
    "duration": 11,
    "start_time": "2024-11-10T01:22:47.172Z"
   },
   {
    "duration": 8,
    "start_time": "2024-11-10T01:23:29.945Z"
   },
   {
    "duration": 3,
    "start_time": "2024-11-10T01:26:53.095Z"
   },
   {
    "duration": 317,
    "start_time": "2024-11-10T01:27:18.461Z"
   },
   {
    "duration": 11,
    "start_time": "2024-11-10T01:27:18.781Z"
   },
   {
    "duration": 10,
    "start_time": "2024-11-10T01:27:18.794Z"
   },
   {
    "duration": 14,
    "start_time": "2024-11-10T01:27:18.806Z"
   },
   {
    "duration": 2,
    "start_time": "2024-11-10T01:27:18.823Z"
   },
   {
    "duration": 6,
    "start_time": "2024-11-10T01:27:18.827Z"
   },
   {
    "duration": 36,
    "start_time": "2024-11-10T01:27:18.834Z"
   },
   {
    "duration": 10,
    "start_time": "2024-11-10T01:27:18.872Z"
   },
   {
    "duration": 102,
    "start_time": "2024-11-10T01:28:25.047Z"
   },
   {
    "duration": 11,
    "start_time": "2024-11-10T01:28:40.973Z"
   },
   {
    "duration": 10,
    "start_time": "2024-11-10T01:30:55.112Z"
   },
   {
    "duration": 8,
    "start_time": "2024-11-10T01:30:58.087Z"
   },
   {
    "duration": 129,
    "start_time": "2024-11-10T01:31:47.706Z"
   },
   {
    "duration": 6,
    "start_time": "2024-11-10T01:31:53.302Z"
   },
   {
    "duration": 16,
    "start_time": "2024-11-10T01:35:37.080Z"
   },
   {
    "duration": 17,
    "start_time": "2024-11-10T01:35:46.095Z"
   },
   {
    "duration": 15,
    "start_time": "2024-11-10T01:36:26.835Z"
   },
   {
    "duration": 3,
    "start_time": "2024-11-10T01:36:56.749Z"
   },
   {
    "duration": 10,
    "start_time": "2024-11-10T01:37:25.057Z"
   },
   {
    "duration": 9,
    "start_time": "2024-11-10T01:37:46.555Z"
   },
   {
    "duration": 2575,
    "start_time": "2024-11-10T01:42:13.049Z"
   },
   {
    "duration": 49,
    "start_time": "2024-11-10T01:46:25.216Z"
   },
   {
    "duration": 208,
    "start_time": "2024-11-10T01:46:41.816Z"
   },
   {
    "duration": 771,
    "start_time": "2024-11-10T01:47:21.676Z"
   },
   {
    "duration": 775,
    "start_time": "2024-11-10T01:48:19.919Z"
   },
   {
    "duration": 63,
    "start_time": "2024-11-10T01:53:12.170Z"
   },
   {
    "duration": 808,
    "start_time": "2024-11-10T01:54:24.853Z"
   },
   {
    "duration": 852,
    "start_time": "2024-11-10T01:54:41.237Z"
   },
   {
    "duration": 1212,
    "start_time": "2024-11-10T01:58:02.353Z"
   },
   {
    "duration": 1029,
    "start_time": "2024-11-10T02:01:40.313Z"
   },
   {
    "duration": 6,
    "start_time": "2024-11-10T02:21:33.543Z"
   },
   {
    "duration": 6,
    "start_time": "2024-11-10T02:22:00.614Z"
   },
   {
    "duration": 6,
    "start_time": "2024-11-10T02:22:06.580Z"
   },
   {
    "duration": 164,
    "start_time": "2024-11-10T02:24:48.352Z"
   },
   {
    "duration": 125,
    "start_time": "2024-11-10T02:25:07.633Z"
   },
   {
    "duration": 26,
    "start_time": "2024-11-10T02:25:39.187Z"
   },
   {
    "duration": 263,
    "start_time": "2024-11-10T02:26:30.399Z"
   },
   {
    "duration": 170,
    "start_time": "2024-11-10T02:27:03.413Z"
   },
   {
    "duration": 172,
    "start_time": "2024-11-10T02:28:24.612Z"
   },
   {
    "duration": 184,
    "start_time": "2024-11-10T02:28:46.806Z"
   },
   {
    "duration": 8,
    "start_time": "2024-11-10T02:29:55.971Z"
   },
   {
    "duration": 8,
    "start_time": "2024-11-10T02:30:18.729Z"
   },
   {
    "duration": 268,
    "start_time": "2024-11-10T02:31:00.110Z"
   },
   {
    "duration": 148,
    "start_time": "2024-11-10T02:31:33.395Z"
   },
   {
    "duration": 177,
    "start_time": "2024-11-10T02:31:44.162Z"
   },
   {
    "duration": 137,
    "start_time": "2024-11-10T02:35:25.701Z"
   },
   {
    "duration": 135,
    "start_time": "2024-11-10T02:36:55.990Z"
   },
   {
    "duration": 138,
    "start_time": "2024-11-10T02:37:12.401Z"
   },
   {
    "duration": 25,
    "start_time": "2024-11-10T02:38:21.403Z"
   },
   {
    "duration": 744,
    "start_time": "2024-11-10T02:38:51.316Z"
   },
   {
    "duration": 10,
    "start_time": "2024-11-10T02:38:52.063Z"
   },
   {
    "duration": 8,
    "start_time": "2024-11-10T02:38:52.074Z"
   },
   {
    "duration": 9,
    "start_time": "2024-11-10T02:38:52.085Z"
   },
   {
    "duration": 7,
    "start_time": "2024-11-10T02:38:52.096Z"
   },
   {
    "duration": 4,
    "start_time": "2024-11-10T02:38:52.104Z"
   },
   {
    "duration": 7,
    "start_time": "2024-11-10T02:38:52.110Z"
   },
   {
    "duration": 7,
    "start_time": "2024-11-10T02:38:52.119Z"
   },
   {
    "duration": 43,
    "start_time": "2024-11-10T02:38:52.128Z"
   },
   {
    "duration": 5,
    "start_time": "2024-11-10T02:38:52.172Z"
   },
   {
    "duration": 6,
    "start_time": "2024-11-10T02:38:52.179Z"
   },
   {
    "duration": 173,
    "start_time": "2024-11-10T02:38:52.187Z"
   },
   {
    "duration": 147,
    "start_time": "2024-11-10T02:38:52.362Z"
   },
   {
    "duration": 160,
    "start_time": "2024-11-10T02:39:33.340Z"
   },
   {
    "duration": 6,
    "start_time": "2024-11-10T02:40:21.275Z"
   },
   {
    "duration": 178,
    "start_time": "2024-11-10T02:40:32.813Z"
   },
   {
    "duration": 189,
    "start_time": "2024-11-10T02:41:50.721Z"
   },
   {
    "duration": 166,
    "start_time": "2024-11-10T02:42:02.667Z"
   },
   {
    "duration": 158,
    "start_time": "2024-11-10T19:06:39.321Z"
   },
   {
    "duration": 2494,
    "start_time": "2024-11-10T19:08:00.572Z"
   },
   {
    "duration": 14,
    "start_time": "2024-11-10T19:08:03.068Z"
   },
   {
    "duration": 8,
    "start_time": "2024-11-10T19:08:03.084Z"
   },
   {
    "duration": 11,
    "start_time": "2024-11-10T19:08:03.093Z"
   },
   {
    "duration": 6,
    "start_time": "2024-11-10T19:08:03.106Z"
   },
   {
    "duration": 4,
    "start_time": "2024-11-10T19:08:03.113Z"
   },
   {
    "duration": 29,
    "start_time": "2024-11-10T19:08:03.118Z"
   },
   {
    "duration": 8,
    "start_time": "2024-11-10T19:08:03.149Z"
   },
   {
    "duration": 6,
    "start_time": "2024-11-10T19:08:03.158Z"
   },
   {
    "duration": 4,
    "start_time": "2024-11-10T19:08:03.166Z"
   },
   {
    "duration": 6,
    "start_time": "2024-11-10T19:08:03.171Z"
   },
   {
    "duration": 206,
    "start_time": "2024-11-10T19:08:03.179Z"
   },
   {
    "duration": 157,
    "start_time": "2024-11-10T19:08:03.387Z"
   },
   {
    "duration": 143,
    "start_time": "2024-11-10T19:08:19.967Z"
   },
   {
    "duration": 13,
    "start_time": "2024-11-10T19:24:33.404Z"
   },
   {
    "duration": 8,
    "start_time": "2024-11-10T19:24:43.424Z"
   },
   {
    "duration": 11,
    "start_time": "2024-11-10T19:24:52.966Z"
   },
   {
    "duration": 3,
    "start_time": "2024-11-10T19:25:26.012Z"
   },
   {
    "duration": 8,
    "start_time": "2024-11-10T19:25:37.330Z"
   },
   {
    "duration": 5,
    "start_time": "2024-11-10T19:26:22.114Z"
   },
   {
    "duration": 5,
    "start_time": "2024-11-10T19:26:53.768Z"
   },
   {
    "duration": 5,
    "start_time": "2024-11-10T19:27:32.879Z"
   },
   {
    "duration": 6,
    "start_time": "2024-11-10T19:27:45.142Z"
   },
   {
    "duration": 126,
    "start_time": "2024-11-10T19:28:27.622Z"
   },
   {
    "duration": 107,
    "start_time": "2024-11-10T19:28:34.530Z"
   },
   {
    "duration": 13,
    "start_time": "2024-11-10T19:30:19.864Z"
   },
   {
    "duration": 10,
    "start_time": "2024-11-10T19:30:27.239Z"
   },
   {
    "duration": 5,
    "start_time": "2024-11-10T19:30:43.683Z"
   },
   {
    "duration": 754,
    "start_time": "2024-11-10T19:31:20.878Z"
   },
   {
    "duration": 16,
    "start_time": "2024-11-10T19:31:21.634Z"
   },
   {
    "duration": 9,
    "start_time": "2024-11-10T19:31:21.652Z"
   },
   {
    "duration": 8,
    "start_time": "2024-11-10T19:31:21.663Z"
   },
   {
    "duration": 5,
    "start_time": "2024-11-10T19:31:21.673Z"
   },
   {
    "duration": 5,
    "start_time": "2024-11-10T19:31:21.680Z"
   },
   {
    "duration": 7,
    "start_time": "2024-11-10T19:31:21.686Z"
   },
   {
    "duration": 7,
    "start_time": "2024-11-10T19:31:21.695Z"
   },
   {
    "duration": 43,
    "start_time": "2024-11-10T19:31:21.704Z"
   },
   {
    "duration": 4,
    "start_time": "2024-11-10T19:31:21.750Z"
   },
   {
    "duration": 6,
    "start_time": "2024-11-10T19:31:21.756Z"
   },
   {
    "duration": 195,
    "start_time": "2024-11-10T19:31:21.764Z"
   },
   {
    "duration": 158,
    "start_time": "2024-11-10T19:31:21.961Z"
   },
   {
    "duration": 6,
    "start_time": "2024-11-10T19:31:22.121Z"
   },
   {
    "duration": 15,
    "start_time": "2024-11-10T19:31:22.129Z"
   },
   {
    "duration": 9,
    "start_time": "2024-11-10T19:31:22.146Z"
   },
   {
    "duration": 7,
    "start_time": "2024-11-10T19:31:22.156Z"
   },
   {
    "duration": 5,
    "start_time": "2024-11-10T19:31:22.164Z"
   },
   {
    "duration": 4,
    "start_time": "2024-11-10T19:31:22.171Z"
   },
   {
    "duration": 10,
    "start_time": "2024-11-10T19:31:22.176Z"
   },
   {
    "duration": 4,
    "start_time": "2024-11-10T19:31:22.187Z"
   },
   {
    "duration": 5,
    "start_time": "2024-11-10T19:32:38.546Z"
   },
   {
    "duration": 10,
    "start_time": "2024-11-10T19:35:50.326Z"
   },
   {
    "duration": 10,
    "start_time": "2024-11-10T19:39:01.128Z"
   },
   {
    "duration": 26,
    "start_time": "2024-11-10T19:39:25.541Z"
   },
   {
    "duration": 718,
    "start_time": "2024-11-10T19:39:47.408Z"
   },
   {
    "duration": 8,
    "start_time": "2024-11-10T19:39:48.128Z"
   },
   {
    "duration": 17,
    "start_time": "2024-11-10T19:39:48.137Z"
   },
   {
    "duration": 17,
    "start_time": "2024-11-10T19:39:48.156Z"
   },
   {
    "duration": 6,
    "start_time": "2024-11-10T19:39:48.175Z"
   },
   {
    "duration": 4,
    "start_time": "2024-11-10T19:39:48.183Z"
   },
   {
    "duration": 7,
    "start_time": "2024-11-10T19:39:48.189Z"
   },
   {
    "duration": 7,
    "start_time": "2024-11-10T19:39:48.198Z"
   },
   {
    "duration": 7,
    "start_time": "2024-11-10T19:39:48.207Z"
   },
   {
    "duration": 56,
    "start_time": "2024-11-10T19:39:48.215Z"
   },
   {
    "duration": 7,
    "start_time": "2024-11-10T19:39:48.272Z"
   },
   {
    "duration": 196,
    "start_time": "2024-11-10T19:39:48.281Z"
   },
   {
    "duration": 183,
    "start_time": "2024-11-10T19:39:48.479Z"
   },
   {
    "duration": 6,
    "start_time": "2024-11-10T19:39:48.675Z"
   },
   {
    "duration": 8,
    "start_time": "2024-11-10T19:39:48.682Z"
   },
   {
    "duration": 8,
    "start_time": "2024-11-10T19:39:48.691Z"
   },
   {
    "duration": 7,
    "start_time": "2024-11-10T19:39:48.701Z"
   },
   {
    "duration": 5,
    "start_time": "2024-11-10T19:39:48.710Z"
   },
   {
    "duration": 5,
    "start_time": "2024-11-10T19:39:48.717Z"
   },
   {
    "duration": 40,
    "start_time": "2024-11-10T19:39:48.723Z"
   },
   {
    "duration": 5,
    "start_time": "2024-11-10T19:39:48.766Z"
   },
   {
    "duration": 5,
    "start_time": "2024-11-10T19:48:52.996Z"
   },
   {
    "duration": 5,
    "start_time": "2024-11-10T19:48:59.175Z"
   },
   {
    "duration": 9,
    "start_time": "2024-11-10T19:49:03.287Z"
   },
   {
    "duration": 744,
    "start_time": "2024-11-10T19:49:21.637Z"
   },
   {
    "duration": 9,
    "start_time": "2024-11-10T19:49:22.383Z"
   },
   {
    "duration": 9,
    "start_time": "2024-11-10T19:49:22.393Z"
   },
   {
    "duration": 10,
    "start_time": "2024-11-10T19:49:22.404Z"
   },
   {
    "duration": 6,
    "start_time": "2024-11-10T19:49:22.415Z"
   },
   {
    "duration": 31,
    "start_time": "2024-11-10T19:49:22.423Z"
   },
   {
    "duration": 17,
    "start_time": "2024-11-10T19:49:22.455Z"
   },
   {
    "duration": 7,
    "start_time": "2024-11-10T19:49:22.473Z"
   },
   {
    "duration": 6,
    "start_time": "2024-11-10T19:49:22.482Z"
   },
   {
    "duration": 3,
    "start_time": "2024-11-10T19:49:22.491Z"
   },
   {
    "duration": 7,
    "start_time": "2024-11-10T19:49:22.496Z"
   },
   {
    "duration": 209,
    "start_time": "2024-11-10T19:49:22.505Z"
   },
   {
    "duration": 160,
    "start_time": "2024-11-10T19:49:22.716Z"
   },
   {
    "duration": 7,
    "start_time": "2024-11-10T19:49:22.877Z"
   },
   {
    "duration": 8,
    "start_time": "2024-11-10T19:49:22.885Z"
   },
   {
    "duration": 8,
    "start_time": "2024-11-10T19:49:22.895Z"
   },
   {
    "duration": 7,
    "start_time": "2024-11-10T19:49:22.905Z"
   },
   {
    "duration": 48,
    "start_time": "2024-11-10T19:49:22.914Z"
   },
   {
    "duration": 5,
    "start_time": "2024-11-10T19:49:22.971Z"
   },
   {
    "duration": 6,
    "start_time": "2024-11-10T19:49:22.978Z"
   },
   {
    "duration": 7,
    "start_time": "2024-11-10T19:49:22.985Z"
   },
   {
    "duration": 8,
    "start_time": "2024-11-10T19:50:02.329Z"
   },
   {
    "duration": 34,
    "start_time": "2024-11-10T19:55:48.838Z"
   },
   {
    "duration": 6,
    "start_time": "2024-11-10T19:55:54.640Z"
   },
   {
    "duration": 158,
    "start_time": "2024-11-10T23:57:46.325Z"
   },
   {
    "duration": 2417,
    "start_time": "2024-11-10T23:57:55.465Z"
   },
   {
    "duration": 20,
    "start_time": "2024-11-10T23:57:57.884Z"
   },
   {
    "duration": 9,
    "start_time": "2024-11-10T23:57:57.905Z"
   },
   {
    "duration": 10,
    "start_time": "2024-11-10T23:57:57.915Z"
   },
   {
    "duration": 6,
    "start_time": "2024-11-10T23:57:57.927Z"
   },
   {
    "duration": 4,
    "start_time": "2024-11-10T23:57:57.935Z"
   },
   {
    "duration": 8,
    "start_time": "2024-11-10T23:57:57.940Z"
   },
   {
    "duration": 7,
    "start_time": "2024-11-10T23:57:57.950Z"
   },
   {
    "duration": 6,
    "start_time": "2024-11-10T23:57:57.959Z"
   },
   {
    "duration": 3,
    "start_time": "2024-11-10T23:57:58.006Z"
   },
   {
    "duration": 6,
    "start_time": "2024-11-10T23:57:58.011Z"
   },
   {
    "duration": 201,
    "start_time": "2024-11-10T23:57:58.019Z"
   },
   {
    "duration": 143,
    "start_time": "2024-11-10T23:57:58.221Z"
   },
   {
    "duration": 16,
    "start_time": "2024-11-10T23:57:58.367Z"
   },
   {
    "duration": 8,
    "start_time": "2024-11-10T23:57:58.384Z"
   },
   {
    "duration": 12,
    "start_time": "2024-11-10T23:57:58.394Z"
   },
   {
    "duration": 6,
    "start_time": "2024-11-10T23:57:58.408Z"
   },
   {
    "duration": 5,
    "start_time": "2024-11-10T23:57:58.416Z"
   },
   {
    "duration": 6,
    "start_time": "2024-11-10T23:57:58.423Z"
   },
   {
    "duration": 10,
    "start_time": "2024-11-10T23:57:58.430Z"
   },
   {
    "duration": 5,
    "start_time": "2024-11-10T23:57:58.441Z"
   },
   {
    "duration": 158,
    "start_time": "2024-11-10T23:57:58.448Z"
   },
   {
    "duration": 12,
    "start_time": "2024-11-10T23:58:19.570Z"
   },
   {
    "duration": 12,
    "start_time": "2024-11-10T23:58:42.265Z"
   },
   {
    "duration": 506,
    "start_time": "2024-11-10T23:59:36.639Z"
   },
   {
    "duration": 3,
    "start_time": "2024-11-10T23:59:50.799Z"
   },
   {
    "duration": 4,
    "start_time": "2024-11-11T00:04:18.033Z"
   },
   {
    "duration": 5,
    "start_time": "2024-11-11T00:05:42.054Z"
   },
   {
    "duration": 7,
    "start_time": "2024-11-11T00:05:59.389Z"
   },
   {
    "duration": 9,
    "start_time": "2024-11-11T00:08:03.182Z"
   },
   {
    "duration": 5,
    "start_time": "2024-11-11T00:17:51.251Z"
   },
   {
    "duration": 7,
    "start_time": "2024-11-11T00:17:57.835Z"
   },
   {
    "duration": 7,
    "start_time": "2024-11-11T00:18:05.696Z"
   },
   {
    "duration": 10,
    "start_time": "2024-11-11T00:18:16.821Z"
   },
   {
    "duration": 12,
    "start_time": "2024-11-11T00:18:24.466Z"
   },
   {
    "duration": 3,
    "start_time": "2024-11-11T00:18:58.813Z"
   },
   {
    "duration": 9,
    "start_time": "2024-11-11T00:19:04.176Z"
   },
   {
    "duration": 10,
    "start_time": "2024-11-11T00:19:38.834Z"
   },
   {
    "duration": 7,
    "start_time": "2024-11-11T00:20:32.591Z"
   },
   {
    "duration": 7,
    "start_time": "2024-11-11T00:20:46.420Z"
   },
   {
    "duration": 6,
    "start_time": "2024-11-11T00:20:52.260Z"
   },
   {
    "duration": 7,
    "start_time": "2024-11-11T00:20:58.077Z"
   },
   {
    "duration": 6,
    "start_time": "2024-11-11T00:21:13.175Z"
   },
   {
    "duration": 6,
    "start_time": "2024-11-11T00:21:26.582Z"
   },
   {
    "duration": 7,
    "start_time": "2024-11-11T00:21:46.440Z"
   },
   {
    "duration": 699,
    "start_time": "2024-11-11T00:21:58.198Z"
   },
   {
    "duration": 9,
    "start_time": "2024-11-11T00:21:58.899Z"
   },
   {
    "duration": 8,
    "start_time": "2024-11-11T00:21:58.910Z"
   },
   {
    "duration": 9,
    "start_time": "2024-11-11T00:21:58.920Z"
   },
   {
    "duration": 6,
    "start_time": "2024-11-11T00:21:58.931Z"
   },
   {
    "duration": 4,
    "start_time": "2024-11-11T00:21:58.939Z"
   },
   {
    "duration": 7,
    "start_time": "2024-11-11T00:21:58.945Z"
   },
   {
    "duration": 8,
    "start_time": "2024-11-11T00:21:58.954Z"
   },
   {
    "duration": 44,
    "start_time": "2024-11-11T00:21:58.963Z"
   },
   {
    "duration": 4,
    "start_time": "2024-11-11T00:21:59.008Z"
   },
   {
    "duration": 6,
    "start_time": "2024-11-11T00:21:59.014Z"
   },
   {
    "duration": 191,
    "start_time": "2024-11-11T00:21:59.022Z"
   },
   {
    "duration": 152,
    "start_time": "2024-11-11T00:21:59.215Z"
   },
   {
    "duration": 5,
    "start_time": "2024-11-11T00:21:59.371Z"
   },
   {
    "duration": 8,
    "start_time": "2024-11-11T00:21:59.378Z"
   },
   {
    "duration": 25,
    "start_time": "2024-11-11T00:21:59.387Z"
   },
   {
    "duration": 9,
    "start_time": "2024-11-11T00:21:59.414Z"
   },
   {
    "duration": 5,
    "start_time": "2024-11-11T00:21:59.425Z"
   },
   {
    "duration": 5,
    "start_time": "2024-11-11T00:21:59.431Z"
   },
   {
    "duration": 10,
    "start_time": "2024-11-11T00:21:59.438Z"
   },
   {
    "duration": 5,
    "start_time": "2024-11-11T00:21:59.451Z"
   },
   {
    "duration": 47,
    "start_time": "2024-11-11T00:21:59.459Z"
   },
   {
    "duration": 9,
    "start_time": "2024-11-11T00:21:59.507Z"
   },
   {
    "duration": 9,
    "start_time": "2024-11-11T00:21:59.518Z"
   },
   {
    "duration": 10,
    "start_time": "2024-11-11T00:22:12.055Z"
   },
   {
    "duration": 10,
    "start_time": "2024-11-11T00:22:18.375Z"
   },
   {
    "duration": 8,
    "start_time": "2024-11-11T00:22:24.012Z"
   },
   {
    "duration": 4,
    "start_time": "2024-11-11T01:17:35.355Z"
   },
   {
    "duration": 771,
    "start_time": "2024-11-11T01:18:05.411Z"
   },
   {
    "duration": 8,
    "start_time": "2024-11-11T01:18:06.185Z"
   },
   {
    "duration": 12,
    "start_time": "2024-11-11T01:18:06.196Z"
   },
   {
    "duration": 8,
    "start_time": "2024-11-11T01:18:06.210Z"
   },
   {
    "duration": 7,
    "start_time": "2024-11-11T01:18:06.221Z"
   },
   {
    "duration": 5,
    "start_time": "2024-11-11T01:18:06.229Z"
   },
   {
    "duration": 8,
    "start_time": "2024-11-11T01:18:06.235Z"
   },
   {
    "duration": 8,
    "start_time": "2024-11-11T01:18:06.244Z"
   },
   {
    "duration": 6,
    "start_time": "2024-11-11T01:18:06.254Z"
   },
   {
    "duration": 43,
    "start_time": "2024-11-11T01:18:06.262Z"
   },
   {
    "duration": 6,
    "start_time": "2024-11-11T01:18:06.307Z"
   },
   {
    "duration": 196,
    "start_time": "2024-11-11T01:18:06.315Z"
   },
   {
    "duration": 152,
    "start_time": "2024-11-11T01:18:06.513Z"
   },
   {
    "duration": 5,
    "start_time": "2024-11-11T01:18:06.669Z"
   },
   {
    "duration": 8,
    "start_time": "2024-11-11T01:18:06.676Z"
   },
   {
    "duration": 21,
    "start_time": "2024-11-11T01:18:06.685Z"
   },
   {
    "duration": 9,
    "start_time": "2024-11-11T01:18:06.708Z"
   },
   {
    "duration": 7,
    "start_time": "2024-11-11T01:18:06.719Z"
   },
   {
    "duration": 4,
    "start_time": "2024-11-11T01:18:06.728Z"
   },
   {
    "duration": 5,
    "start_time": "2024-11-11T01:18:06.734Z"
   },
   {
    "duration": 10,
    "start_time": "2024-11-11T01:18:06.741Z"
   },
   {
    "duration": 5,
    "start_time": "2024-11-11T01:18:06.752Z"
   },
   {
    "duration": 51,
    "start_time": "2024-11-11T01:18:06.759Z"
   },
   {
    "duration": 10,
    "start_time": "2024-11-11T01:18:06.811Z"
   },
   {
    "duration": 11,
    "start_time": "2024-11-11T01:18:51.035Z"
   },
   {
    "duration": 765,
    "start_time": "2024-11-11T01:19:13.903Z"
   },
   {
    "duration": 8,
    "start_time": "2024-11-11T01:19:14.670Z"
   },
   {
    "duration": 9,
    "start_time": "2024-11-11T01:19:14.680Z"
   },
   {
    "duration": 18,
    "start_time": "2024-11-11T01:19:14.690Z"
   },
   {
    "duration": 6,
    "start_time": "2024-11-11T01:19:14.711Z"
   },
   {
    "duration": 5,
    "start_time": "2024-11-11T01:19:14.719Z"
   },
   {
    "duration": 8,
    "start_time": "2024-11-11T01:19:14.725Z"
   },
   {
    "duration": 7,
    "start_time": "2024-11-11T01:19:14.735Z"
   },
   {
    "duration": 7,
    "start_time": "2024-11-11T01:19:14.743Z"
   },
   {
    "duration": 4,
    "start_time": "2024-11-11T01:19:14.751Z"
   },
   {
    "duration": 49,
    "start_time": "2024-11-11T01:19:14.757Z"
   },
   {
    "duration": 177,
    "start_time": "2024-11-11T01:19:14.809Z"
   },
   {
    "duration": 148,
    "start_time": "2024-11-11T01:19:14.989Z"
   },
   {
    "duration": 4,
    "start_time": "2024-11-11T01:19:15.140Z"
   },
   {
    "duration": 8,
    "start_time": "2024-11-11T01:19:15.146Z"
   },
   {
    "duration": 9,
    "start_time": "2024-11-11T01:19:15.156Z"
   },
   {
    "duration": 9,
    "start_time": "2024-11-11T01:19:15.166Z"
   },
   {
    "duration": 8,
    "start_time": "2024-11-11T01:19:15.205Z"
   },
   {
    "duration": 5,
    "start_time": "2024-11-11T01:19:15.215Z"
   },
   {
    "duration": 5,
    "start_time": "2024-11-11T01:19:15.222Z"
   },
   {
    "duration": 9,
    "start_time": "2024-11-11T01:19:15.228Z"
   },
   {
    "duration": 4,
    "start_time": "2024-11-11T01:19:15.239Z"
   },
   {
    "duration": 9,
    "start_time": "2024-11-11T01:19:15.245Z"
   },
   {
    "duration": 9,
    "start_time": "2024-11-11T01:19:15.255Z"
   },
   {
    "duration": 10,
    "start_time": "2024-11-11T01:23:57.687Z"
   },
   {
    "duration": 728,
    "start_time": "2024-11-11T01:24:46.067Z"
   },
   {
    "duration": 14,
    "start_time": "2024-11-11T01:24:46.798Z"
   },
   {
    "duration": 9,
    "start_time": "2024-11-11T01:24:46.813Z"
   },
   {
    "duration": 8,
    "start_time": "2024-11-11T01:24:46.824Z"
   },
   {
    "duration": 8,
    "start_time": "2024-11-11T01:24:46.834Z"
   },
   {
    "duration": 4,
    "start_time": "2024-11-11T01:24:46.843Z"
   },
   {
    "duration": 7,
    "start_time": "2024-11-11T01:24:46.849Z"
   },
   {
    "duration": 8,
    "start_time": "2024-11-11T01:24:46.858Z"
   },
   {
    "duration": 42,
    "start_time": "2024-11-11T01:24:46.868Z"
   },
   {
    "duration": 4,
    "start_time": "2024-11-11T01:24:46.912Z"
   },
   {
    "duration": 6,
    "start_time": "2024-11-11T01:24:46.918Z"
   },
   {
    "duration": 195,
    "start_time": "2024-11-11T01:24:46.926Z"
   },
   {
    "duration": 149,
    "start_time": "2024-11-11T01:24:47.124Z"
   },
   {
    "duration": 5,
    "start_time": "2024-11-11T01:24:47.276Z"
   },
   {
    "duration": 8,
    "start_time": "2024-11-11T01:24:47.282Z"
   },
   {
    "duration": 22,
    "start_time": "2024-11-11T01:24:47.292Z"
   },
   {
    "duration": 12,
    "start_time": "2024-11-11T01:24:47.316Z"
   },
   {
    "duration": 9,
    "start_time": "2024-11-11T01:24:47.330Z"
   },
   {
    "duration": 5,
    "start_time": "2024-11-11T01:24:47.341Z"
   },
   {
    "duration": 5,
    "start_time": "2024-11-11T01:24:47.347Z"
   },
   {
    "duration": 10,
    "start_time": "2024-11-11T01:24:47.354Z"
   },
   {
    "duration": 41,
    "start_time": "2024-11-11T01:24:47.365Z"
   },
   {
    "duration": 10,
    "start_time": "2024-11-11T01:24:47.408Z"
   },
   {
    "duration": 9,
    "start_time": "2024-11-11T01:24:47.419Z"
   },
   {
    "duration": 10,
    "start_time": "2024-11-11T01:24:47.429Z"
   },
   {
    "duration": 9,
    "start_time": "2024-11-11T01:37:17.887Z"
   },
   {
    "duration": 743,
    "start_time": "2024-11-11T01:37:29.246Z"
   },
   {
    "duration": 9,
    "start_time": "2024-11-11T01:37:29.991Z"
   },
   {
    "duration": 8,
    "start_time": "2024-11-11T01:37:30.003Z"
   },
   {
    "duration": 9,
    "start_time": "2024-11-11T01:37:30.013Z"
   },
   {
    "duration": 6,
    "start_time": "2024-11-11T01:37:30.024Z"
   },
   {
    "duration": 5,
    "start_time": "2024-11-11T01:37:30.031Z"
   },
   {
    "duration": 7,
    "start_time": "2024-11-11T01:37:30.038Z"
   },
   {
    "duration": 7,
    "start_time": "2024-11-11T01:37:30.047Z"
   },
   {
    "duration": 6,
    "start_time": "2024-11-11T01:37:30.056Z"
   },
   {
    "duration": 5,
    "start_time": "2024-11-11T01:37:30.104Z"
   },
   {
    "duration": 7,
    "start_time": "2024-11-11T01:37:30.111Z"
   },
   {
    "duration": 202,
    "start_time": "2024-11-11T01:37:30.119Z"
   },
   {
    "duration": 157,
    "start_time": "2024-11-11T01:37:30.323Z"
   },
   {
    "duration": 8,
    "start_time": "2024-11-11T01:37:30.483Z"
   },
   {
    "duration": 14,
    "start_time": "2024-11-11T01:37:30.493Z"
   },
   {
    "duration": 10,
    "start_time": "2024-11-11T01:37:30.509Z"
   },
   {
    "duration": 8,
    "start_time": "2024-11-11T01:37:30.522Z"
   },
   {
    "duration": 7,
    "start_time": "2024-11-11T01:37:30.532Z"
   },
   {
    "duration": 4,
    "start_time": "2024-11-11T01:37:30.541Z"
   },
   {
    "duration": 5,
    "start_time": "2024-11-11T01:37:30.547Z"
   },
   {
    "duration": 9,
    "start_time": "2024-11-11T01:37:30.553Z"
   },
   {
    "duration": 45,
    "start_time": "2024-11-11T01:37:30.564Z"
   },
   {
    "duration": 39,
    "start_time": "2024-11-11T01:37:30.611Z"
   },
   {
    "duration": 8,
    "start_time": "2024-11-11T01:37:30.651Z"
   },
   {
    "duration": 10,
    "start_time": "2024-11-11T01:37:30.660Z"
   },
   {
    "duration": 9,
    "start_time": "2024-11-11T01:37:30.671Z"
   },
   {
    "duration": 468,
    "start_time": "2024-11-11T01:37:53.613Z"
   },
   {
    "duration": 789,
    "start_time": "2024-11-11T01:38:17.110Z"
   },
   {
    "duration": 11,
    "start_time": "2024-11-11T01:38:17.901Z"
   },
   {
    "duration": 8,
    "start_time": "2024-11-11T01:38:17.914Z"
   },
   {
    "duration": 9,
    "start_time": "2024-11-11T01:38:17.924Z"
   },
   {
    "duration": 5,
    "start_time": "2024-11-11T01:38:17.936Z"
   },
   {
    "duration": 4,
    "start_time": "2024-11-11T01:38:17.943Z"
   },
   {
    "duration": 8,
    "start_time": "2024-11-11T01:38:17.948Z"
   },
   {
    "duration": 7,
    "start_time": "2024-11-11T01:38:17.958Z"
   },
   {
    "duration": 42,
    "start_time": "2024-11-11T01:38:17.967Z"
   },
   {
    "duration": 5,
    "start_time": "2024-11-11T01:38:18.011Z"
   },
   {
    "duration": 6,
    "start_time": "2024-11-11T01:38:18.017Z"
   },
   {
    "duration": 197,
    "start_time": "2024-11-11T01:38:18.025Z"
   },
   {
    "duration": 157,
    "start_time": "2024-11-11T01:38:18.224Z"
   },
   {
    "duration": 6,
    "start_time": "2024-11-11T01:38:18.385Z"
   },
   {
    "duration": 19,
    "start_time": "2024-11-11T01:38:18.393Z"
   },
   {
    "duration": 15,
    "start_time": "2024-11-11T01:38:18.413Z"
   },
   {
    "duration": 12,
    "start_time": "2024-11-11T01:38:18.430Z"
   },
   {
    "duration": 7,
    "start_time": "2024-11-11T01:38:18.444Z"
   },
   {
    "duration": 6,
    "start_time": "2024-11-11T01:38:18.453Z"
   },
   {
    "duration": 5,
    "start_time": "2024-11-11T01:38:18.461Z"
   },
   {
    "duration": 10,
    "start_time": "2024-11-11T01:38:18.505Z"
   },
   {
    "duration": 6,
    "start_time": "2024-11-11T01:38:18.518Z"
   },
   {
    "duration": 11,
    "start_time": "2024-11-11T01:38:18.526Z"
   },
   {
    "duration": 9,
    "start_time": "2024-11-11T01:38:18.539Z"
   },
   {
    "duration": 15,
    "start_time": "2024-11-11T01:38:18.550Z"
   },
   {
    "duration": 43,
    "start_time": "2024-11-11T01:38:18.566Z"
   },
   {
    "duration": 12,
    "start_time": "2024-11-11T01:38:57.574Z"
   },
   {
    "duration": 711,
    "start_time": "2024-11-11T01:39:17.374Z"
   },
   {
    "duration": 9,
    "start_time": "2024-11-11T01:39:18.087Z"
   },
   {
    "duration": 9,
    "start_time": "2024-11-11T01:39:18.104Z"
   },
   {
    "duration": 10,
    "start_time": "2024-11-11T01:39:18.114Z"
   },
   {
    "duration": 5,
    "start_time": "2024-11-11T01:39:18.127Z"
   },
   {
    "duration": 4,
    "start_time": "2024-11-11T01:39:18.135Z"
   },
   {
    "duration": 7,
    "start_time": "2024-11-11T01:39:18.141Z"
   },
   {
    "duration": 8,
    "start_time": "2024-11-11T01:39:18.149Z"
   },
   {
    "duration": 6,
    "start_time": "2024-11-11T01:39:18.158Z"
   },
   {
    "duration": 4,
    "start_time": "2024-11-11T01:39:18.205Z"
   },
   {
    "duration": 6,
    "start_time": "2024-11-11T01:39:18.211Z"
   },
   {
    "duration": 188,
    "start_time": "2024-11-11T01:39:18.219Z"
   },
   {
    "duration": 149,
    "start_time": "2024-11-11T01:39:18.409Z"
   },
   {
    "duration": 5,
    "start_time": "2024-11-11T01:39:18.562Z"
   },
   {
    "duration": 8,
    "start_time": "2024-11-11T01:39:18.568Z"
   },
   {
    "duration": 28,
    "start_time": "2024-11-11T01:39:18.578Z"
   },
   {
    "duration": 8,
    "start_time": "2024-11-11T01:39:18.608Z"
   },
   {
    "duration": 7,
    "start_time": "2024-11-11T01:39:18.618Z"
   },
   {
    "duration": 5,
    "start_time": "2024-11-11T01:39:18.627Z"
   },
   {
    "duration": 4,
    "start_time": "2024-11-11T01:39:18.635Z"
   },
   {
    "duration": 10,
    "start_time": "2024-11-11T01:39:18.641Z"
   },
   {
    "duration": 4,
    "start_time": "2024-11-11T01:39:18.653Z"
   },
   {
    "duration": 50,
    "start_time": "2024-11-11T01:39:18.659Z"
   },
   {
    "duration": 10,
    "start_time": "2024-11-11T01:39:18.711Z"
   },
   {
    "duration": 12,
    "start_time": "2024-11-11T01:39:18.723Z"
   },
   {
    "duration": 10,
    "start_time": "2024-11-11T01:39:18.737Z"
   },
   {
    "duration": 12,
    "start_time": "2024-11-11T01:40:26.336Z"
   },
   {
    "duration": 5,
    "start_time": "2024-11-11T01:40:57.531Z"
   },
   {
    "duration": 10,
    "start_time": "2024-11-11T01:41:20.725Z"
   },
   {
    "duration": 11,
    "start_time": "2024-11-11T01:41:49.763Z"
   },
   {
    "duration": 8,
    "start_time": "2024-11-11T01:48:02.037Z"
   },
   {
    "duration": 5,
    "start_time": "2024-11-11T01:48:20.231Z"
   },
   {
    "duration": 19,
    "start_time": "2024-11-11T01:48:33.278Z"
   },
   {
    "duration": 8,
    "start_time": "2024-11-11T01:50:42.956Z"
   },
   {
    "duration": 8,
    "start_time": "2024-11-11T01:51:14.761Z"
   },
   {
    "duration": 8,
    "start_time": "2024-11-11T01:54:17.800Z"
   },
   {
    "duration": 8,
    "start_time": "2024-11-11T01:55:04.611Z"
   },
   {
    "duration": 269,
    "start_time": "2024-11-11T01:55:31.973Z"
   },
   {
    "duration": 14,
    "start_time": "2024-11-11T01:55:45.191Z"
   },
   {
    "duration": 5,
    "start_time": "2024-11-11T01:56:42.406Z"
   },
   {
    "duration": 4,
    "start_time": "2024-11-11T01:57:23.250Z"
   },
   {
    "duration": 4,
    "start_time": "2024-11-11T01:57:29.576Z"
   },
   {
    "duration": 5,
    "start_time": "2024-11-11T01:58:26.750Z"
   },
   {
    "duration": 5,
    "start_time": "2024-11-11T01:59:09.598Z"
   },
   {
    "duration": 8,
    "start_time": "2024-11-11T01:59:56.264Z"
   },
   {
    "duration": 5,
    "start_time": "2024-11-11T02:00:52.926Z"
   },
   {
    "duration": 743,
    "start_time": "2024-11-11T02:02:08.941Z"
   },
   {
    "duration": 8,
    "start_time": "2024-11-11T02:02:09.687Z"
   },
   {
    "duration": 16,
    "start_time": "2024-11-11T02:02:09.696Z"
   },
   {
    "duration": 9,
    "start_time": "2024-11-11T02:02:09.713Z"
   },
   {
    "duration": 5,
    "start_time": "2024-11-11T02:02:09.725Z"
   },
   {
    "duration": 3,
    "start_time": "2024-11-11T02:02:09.733Z"
   },
   {
    "duration": 9,
    "start_time": "2024-11-11T02:02:09.738Z"
   },
   {
    "duration": 7,
    "start_time": "2024-11-11T02:02:09.748Z"
   },
   {
    "duration": 6,
    "start_time": "2024-11-11T02:02:09.757Z"
   },
   {
    "duration": 43,
    "start_time": "2024-11-11T02:02:09.765Z"
   },
   {
    "duration": 6,
    "start_time": "2024-11-11T02:02:09.810Z"
   },
   {
    "duration": 183,
    "start_time": "2024-11-11T02:02:09.819Z"
   },
   {
    "duration": 150,
    "start_time": "2024-11-11T02:02:10.003Z"
   },
   {
    "duration": 5,
    "start_time": "2024-11-11T02:02:10.157Z"
   },
   {
    "duration": 8,
    "start_time": "2024-11-11T02:02:10.163Z"
   },
   {
    "duration": 9,
    "start_time": "2024-11-11T02:02:10.172Z"
   },
   {
    "duration": 30,
    "start_time": "2024-11-11T02:02:10.183Z"
   },
   {
    "duration": 9,
    "start_time": "2024-11-11T02:02:10.214Z"
   },
   {
    "duration": 7,
    "start_time": "2024-11-11T02:02:10.226Z"
   },
   {
    "duration": 5,
    "start_time": "2024-11-11T02:02:10.235Z"
   },
   {
    "duration": 10,
    "start_time": "2024-11-11T02:02:10.242Z"
   },
   {
    "duration": 5,
    "start_time": "2024-11-11T02:02:10.253Z"
   },
   {
    "duration": 47,
    "start_time": "2024-11-11T02:02:10.259Z"
   },
   {
    "duration": 10,
    "start_time": "2024-11-11T02:02:10.308Z"
   },
   {
    "duration": 12,
    "start_time": "2024-11-11T02:02:10.319Z"
   },
   {
    "duration": 10,
    "start_time": "2024-11-11T02:02:10.333Z"
   },
   {
    "duration": 8,
    "start_time": "2024-11-11T02:02:10.345Z"
   },
   {
    "duration": 4,
    "start_time": "2024-11-11T02:02:10.354Z"
   },
   {
    "duration": 14,
    "start_time": "2024-11-11T02:06:19.894Z"
   },
   {
    "duration": 806,
    "start_time": "2024-11-11T02:08:08.931Z"
   },
   {
    "duration": 96,
    "start_time": "2024-11-11T02:08:22.974Z"
   },
   {
    "duration": 4,
    "start_time": "2024-11-11T02:08:42.793Z"
   },
   {
    "duration": 4,
    "start_time": "2024-11-11T02:09:50.942Z"
   },
   {
    "duration": 14,
    "start_time": "2024-11-11T02:15:56.373Z"
   },
   {
    "duration": 379,
    "start_time": "2024-11-11T02:16:40.932Z"
   },
   {
    "duration": 4,
    "start_time": "2024-11-11T02:17:28.299Z"
   },
   {
    "duration": 3,
    "start_time": "2024-11-11T02:18:09.602Z"
   },
   {
    "duration": 5,
    "start_time": "2024-11-11T02:22:04.902Z"
   },
   {
    "duration": 3,
    "start_time": "2024-11-11T02:27:11.433Z"
   },
   {
    "duration": 4,
    "start_time": "2024-11-11T02:37:58.159Z"
   },
   {
    "duration": 771,
    "start_time": "2024-11-11T02:39:07.926Z"
   },
   {
    "duration": 9,
    "start_time": "2024-11-11T02:39:08.699Z"
   },
   {
    "duration": 10,
    "start_time": "2024-11-11T02:39:08.709Z"
   },
   {
    "duration": 9,
    "start_time": "2024-11-11T02:39:08.721Z"
   },
   {
    "duration": 6,
    "start_time": "2024-11-11T02:39:08.732Z"
   },
   {
    "duration": 5,
    "start_time": "2024-11-11T02:39:08.739Z"
   },
   {
    "duration": 7,
    "start_time": "2024-11-11T02:39:08.746Z"
   },
   {
    "duration": 7,
    "start_time": "2024-11-11T02:39:08.755Z"
   },
   {
    "duration": 42,
    "start_time": "2024-11-11T02:39:08.764Z"
   },
   {
    "duration": 3,
    "start_time": "2024-11-11T02:39:08.809Z"
   },
   {
    "duration": 6,
    "start_time": "2024-11-11T02:39:08.815Z"
   },
   {
    "duration": 190,
    "start_time": "2024-11-11T02:39:08.823Z"
   },
   {
    "duration": 150,
    "start_time": "2024-11-11T02:39:09.015Z"
   },
   {
    "duration": 5,
    "start_time": "2024-11-11T02:39:09.168Z"
   },
   {
    "duration": 8,
    "start_time": "2024-11-11T02:39:09.175Z"
   },
   {
    "duration": 27,
    "start_time": "2024-11-11T02:39:09.185Z"
   },
   {
    "duration": 10,
    "start_time": "2024-11-11T02:39:09.213Z"
   },
   {
    "duration": 8,
    "start_time": "2024-11-11T02:39:09.225Z"
   },
   {
    "duration": 5,
    "start_time": "2024-11-11T02:39:09.236Z"
   },
   {
    "duration": 6,
    "start_time": "2024-11-11T02:39:09.242Z"
   },
   {
    "duration": 13,
    "start_time": "2024-11-11T02:39:09.250Z"
   },
   {
    "duration": 43,
    "start_time": "2024-11-11T02:39:09.264Z"
   },
   {
    "duration": 10,
    "start_time": "2024-11-11T02:39:09.308Z"
   },
   {
    "duration": 8,
    "start_time": "2024-11-11T02:39:09.320Z"
   },
   {
    "duration": 11,
    "start_time": "2024-11-11T02:39:09.330Z"
   },
   {
    "duration": 10,
    "start_time": "2024-11-11T02:39:09.343Z"
   },
   {
    "duration": 4,
    "start_time": "2024-11-11T02:39:09.355Z"
   },
   {
    "duration": 4,
    "start_time": "2024-11-11T02:39:09.361Z"
   },
   {
    "duration": 41,
    "start_time": "2024-11-11T02:39:09.366Z"
   }
  ],
  "kernelspec": {
   "display_name": "Python 3 (ipykernel)",
   "language": "python",
   "name": "python3"
  },
  "language_info": {
   "codemirror_mode": {
    "name": "ipython",
    "version": 3
   },
   "file_extension": ".py",
   "mimetype": "text/x-python",
   "name": "python",
   "nbconvert_exporter": "python",
   "pygments_lexer": "ipython3",
   "version": "3.9.19"
  },
  "toc": {
   "base_numbering": 1,
   "nav_menu": {},
   "number_sections": true,
   "sideBar": true,
   "skip_h1_title": true,
   "title_cell": "Table of Contents",
   "title_sidebar": "Contents",
   "toc_cell": false,
   "toc_position": {},
   "toc_section_display": true,
   "toc_window_display": false
  }
 },
 "nbformat": 4,
 "nbformat_minor": 2
}
